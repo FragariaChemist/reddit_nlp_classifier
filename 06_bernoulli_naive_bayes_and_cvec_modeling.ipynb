{
 "cells": [
  {
   "cell_type": "markdown",
   "id": "fa9b5fff-72d6-4ca3-a4f4-6d0b7a73fbd7",
   "metadata": {},
   "source": [
    "## Naive Bayes Modeling and Metrics With TF-IDF Vectorier\n",
    "---"
   ]
  },
  {
   "cell_type": "markdown",
   "id": "482adaa2-3d3e-42ba-9684-60efc4e1435e",
   "metadata": {
    "editable": true,
    "slideshow": {
     "slide_type": ""
    },
    "tags": []
   },
   "source": [
    "**Library Imports**"
   ]
  },
  {
   "cell_type": "code",
   "execution_count": 224,
   "id": "339b2b5c-8e79-4888-8964-0f69104364ff",
   "metadata": {},
   "outputs": [],
   "source": [
    "import pandas as pd\n",
    "import matplotlib.pyplot as plt\n",
    "from sklearn import metrics\n",
    "\n",
    "from sklearn.linear_model import LogisticRegression\n",
    "from sklearn.model_selection import train_test_split, GridSearchCV, cross_val_score\n",
    "from sklearn.pipeline import Pipeline\n",
    "from sklearn.metrics import (confusion_matrix, ConfusionMatrixDisplay,accuracy_score,\n",
    "    roc_auc_score, recall_score,\n",
    "    precision_score, f1_score, classification_report, RocCurveDisplay)\n",
    "from sklearn.feature_extraction.text import CountVectorizer\n",
    "from sklearn.naive_bayes import BernoulliNB\n",
    "\n",
    "from matplotlib.ticker import FuncFormatter"
   ]
  },
  {
   "cell_type": "markdown",
   "id": "edbfc33e-db37-45de-83e7-e4e5e583c484",
   "metadata": {},
   "source": [
    "**Read in text_processed_corpus.csv**"
   ]
  },
  {
   "cell_type": "code",
   "execution_count": 95,
   "id": "09aab4e8-671e-4b53-9cff-01090267eb17",
   "metadata": {},
   "outputs": [],
   "source": [
    "text_processed_corpus = pd.read_csv('./data/text_processed_corpus.csv')"
   ]
  },
  {
   "cell_type": "markdown",
   "id": "6f869d4b-6814-4af9-b4a2-b40c12becb9b",
   "metadata": {},
   "source": [
    "### Train Test Split and Null Model\n",
    "---"
   ]
  },
  {
   "cell_type": "code",
   "execution_count": 96,
   "id": "a83401f2-1a21-471c-a1eb-5e6bb6aa3349",
   "metadata": {},
   "outputs": [],
   "source": [
    "#Train Test Split\n",
    "X = text_processed_corpus['processed_text']\n",
    "y = text_processed_corpus['subreddit']\n",
    "\n",
    "X_train, X_test, y_train, y_test = train_test_split(X,y,\n",
    "                                                    stratify = y,\n",
    "                                                    random_state = 24)\n",
    "                                                    \n",
    "    "
   ]
  },
  {
   "cell_type": "markdown",
   "id": "89fb53c1-2f94-427a-802c-b5eb79105afa",
   "metadata": {},
   "source": [
    "**What is the null model?**\n",
    "* There is a **56%** chance of correctly predicting a post belongs in the fountainpens reddit."
   ]
  },
  {
   "cell_type": "code",
   "execution_count": 97,
   "id": "634a7c0f-c251-476c-8633-ed0126df5cf9",
   "metadata": {},
   "outputs": [
    {
     "data": {
      "text/plain": [
       "subreddit\n",
       "1    55.615165\n",
       "0    44.384835\n",
       "Name: proportion, dtype: float64"
      ]
     },
     "execution_count": 97,
     "metadata": {},
     "output_type": "execute_result"
    }
   ],
   "source": [
    "y.value_counts(normalize = True) * 100"
   ]
  },
  {
   "cell_type": "code",
   "execution_count": 98,
   "id": "63e8b071-bcbf-4e2e-8dc4-7601e3eb4424",
   "metadata": {},
   "outputs": [
    {
     "data": {
      "text/plain": [
       "(subreddit\n",
       " 1    0.556032\n",
       " 0    0.443968\n",
       " Name: proportion, dtype: float64,\n",
       " subreddit\n",
       " 1    0.556509\n",
       " 0    0.443491\n",
       " Name: proportion, dtype: float64)"
      ]
     },
     "execution_count": 98,
     "metadata": {},
     "output_type": "execute_result"
    }
   ],
   "source": [
    "#Ensuring that stratify is maintaining the slight skew between the two subreddit\n",
    "y_train.value_counts(normalize = True), y_test.value_counts(normalize = True)"
   ]
  },
  {
   "cell_type": "code",
   "execution_count": 99,
   "id": "2fbf6f4f-5f2a-4b24-892a-52a30458960b",
   "metadata": {},
   "outputs": [],
   "source": [
    "# Summon the vectorizers and estimators\n",
    "cvec = CountVectorizer()\n",
    "logreg = LogisticRegression()"
   ]
  },
  {
   "cell_type": "markdown",
   "id": "48949260-8fb3-4985-9d6e-6df0a6847040",
   "metadata": {},
   "source": [
    "#### Bernoulli Naive Bayes with CountVectorizer\n",
    "___\n",
    "In this project, I will use Bernoulli Naive Bayes as it is ideal to classify variables of 0 and 1.  This perfectly suits our problem of which subreddit posts belong."
   ]
  },
  {
   "cell_type": "code",
   "execution_count": 100,
   "id": "a89c5767-b65f-4802-80e3-11b536de22e8",
   "metadata": {},
   "outputs": [],
   "source": [
    "# Build a pipeline\n",
    "pipe = Pipeline([\n",
    "    ('cvec', CountVectorizer()),\n",
    "    ('bb', BernoulliNB())\n",
    "])"
   ]
  },
  {
   "cell_type": "code",
   "execution_count": 101,
   "id": "6dc78c1c-f0c6-40a2-8d2d-9e7362241171",
   "metadata": {},
   "outputs": [
    {
     "data": {
      "text/plain": [
       "0.8655221745350502"
      ]
     },
     "execution_count": 101,
     "metadata": {},
     "output_type": "execute_result"
    }
   ],
   "source": [
    "# Checking an initial score without actually fitting anything.\n",
    "cross_val_score(pipe, X_train, y_train, cv=3).mean()"
   ]
  },
  {
   "cell_type": "code",
   "execution_count": 103,
   "id": "b9ef47d7-5f25-46e4-951a-f1e43fdb3573",
   "metadata": {},
   "outputs": [],
   "source": [
    "# Create parameters for a gridsearch over to see what performs best -  Started with2100 total models not including cv.\n",
    "# Varied parameters until ideal parameters were determined.\n",
    "pipe_params = {\n",
    "    'bb__alpha':[0.5,0.75,1],\n",
    "    'cvec__max_features': [1000, 2000, 3000],\n",
    "    'cvec__min_df': [2,3, 4],\n",
    "    'cvec__max_df': [0.7,0.8,0.9],\n",
    "    'cvec__ngram_range': [(1,2), (1,3),(1,4)]\n",
    "}"
   ]
  },
  {
   "cell_type": "code",
   "execution_count": 104,
   "id": "a0da5f0a-01b9-4022-97b7-1045837eb1a1",
   "metadata": {},
   "outputs": [],
   "source": [
    "#GridSearch set-up\n",
    "gs = GridSearchCV(pipe,\n",
    "                  pipe_params,\n",
    "                  cv = 5)"
   ]
  },
  {
   "cell_type": "code",
   "execution_count": 105,
   "id": "c0dcebdb-d6dd-4950-b430-18591bf8d4e5",
   "metadata": {},
   "outputs": [
    {
     "data": {
      "text/html": [
       "<style>#sk-container-id-2 {color: black;background-color: white;}#sk-container-id-2 pre{padding: 0;}#sk-container-id-2 div.sk-toggleable {background-color: white;}#sk-container-id-2 label.sk-toggleable__label {cursor: pointer;display: block;width: 100%;margin-bottom: 0;padding: 0.3em;box-sizing: border-box;text-align: center;}#sk-container-id-2 label.sk-toggleable__label-arrow:before {content: \"▸\";float: left;margin-right: 0.25em;color: #696969;}#sk-container-id-2 label.sk-toggleable__label-arrow:hover:before {color: black;}#sk-container-id-2 div.sk-estimator:hover label.sk-toggleable__label-arrow:before {color: black;}#sk-container-id-2 div.sk-toggleable__content {max-height: 0;max-width: 0;overflow: hidden;text-align: left;background-color: #f0f8ff;}#sk-container-id-2 div.sk-toggleable__content pre {margin: 0.2em;color: black;border-radius: 0.25em;background-color: #f0f8ff;}#sk-container-id-2 input.sk-toggleable__control:checked~div.sk-toggleable__content {max-height: 200px;max-width: 100%;overflow: auto;}#sk-container-id-2 input.sk-toggleable__control:checked~label.sk-toggleable__label-arrow:before {content: \"▾\";}#sk-container-id-2 div.sk-estimator input.sk-toggleable__control:checked~label.sk-toggleable__label {background-color: #d4ebff;}#sk-container-id-2 div.sk-label input.sk-toggleable__control:checked~label.sk-toggleable__label {background-color: #d4ebff;}#sk-container-id-2 input.sk-hidden--visually {border: 0;clip: rect(1px 1px 1px 1px);clip: rect(1px, 1px, 1px, 1px);height: 1px;margin: -1px;overflow: hidden;padding: 0;position: absolute;width: 1px;}#sk-container-id-2 div.sk-estimator {font-family: monospace;background-color: #f0f8ff;border: 1px dotted black;border-radius: 0.25em;box-sizing: border-box;margin-bottom: 0.5em;}#sk-container-id-2 div.sk-estimator:hover {background-color: #d4ebff;}#sk-container-id-2 div.sk-parallel-item::after {content: \"\";width: 100%;border-bottom: 1px solid gray;flex-grow: 1;}#sk-container-id-2 div.sk-label:hover label.sk-toggleable__label {background-color: #d4ebff;}#sk-container-id-2 div.sk-serial::before {content: \"\";position: absolute;border-left: 1px solid gray;box-sizing: border-box;top: 0;bottom: 0;left: 50%;z-index: 0;}#sk-container-id-2 div.sk-serial {display: flex;flex-direction: column;align-items: center;background-color: white;padding-right: 0.2em;padding-left: 0.2em;position: relative;}#sk-container-id-2 div.sk-item {position: relative;z-index: 1;}#sk-container-id-2 div.sk-parallel {display: flex;align-items: stretch;justify-content: center;background-color: white;position: relative;}#sk-container-id-2 div.sk-item::before, #sk-container-id-2 div.sk-parallel-item::before {content: \"\";position: absolute;border-left: 1px solid gray;box-sizing: border-box;top: 0;bottom: 0;left: 50%;z-index: -1;}#sk-container-id-2 div.sk-parallel-item {display: flex;flex-direction: column;z-index: 1;position: relative;background-color: white;}#sk-container-id-2 div.sk-parallel-item:first-child::after {align-self: flex-end;width: 50%;}#sk-container-id-2 div.sk-parallel-item:last-child::after {align-self: flex-start;width: 50%;}#sk-container-id-2 div.sk-parallel-item:only-child::after {width: 0;}#sk-container-id-2 div.sk-dashed-wrapped {border: 1px dashed gray;margin: 0 0.4em 0.5em 0.4em;box-sizing: border-box;padding-bottom: 0.4em;background-color: white;}#sk-container-id-2 div.sk-label label {font-family: monospace;font-weight: bold;display: inline-block;line-height: 1.2em;}#sk-container-id-2 div.sk-label-container {text-align: center;}#sk-container-id-2 div.sk-container {/* jupyter's `normalize.less` sets `[hidden] { display: none; }` but bootstrap.min.css set `[hidden] { display: none !important; }` so we also need the `!important` here to be able to override the default hidden behavior on the sphinx rendered scikit-learn.org. See: https://github.com/scikit-learn/scikit-learn/issues/21755 */display: inline-block !important;position: relative;}#sk-container-id-2 div.sk-text-repr-fallback {display: none;}</style><div id=\"sk-container-id-2\" class=\"sk-top-container\"><div class=\"sk-text-repr-fallback\"><pre>GridSearchCV(cv=5,\n",
       "             estimator=Pipeline(steps=[(&#x27;cvec&#x27;, CountVectorizer()),\n",
       "                                       (&#x27;bb&#x27;, BernoulliNB())]),\n",
       "             param_grid={&#x27;bb__alpha&#x27;: [0.5, 0.75, 1],\n",
       "                         &#x27;cvec__max_df&#x27;: [0.7, 0.8, 0.9],\n",
       "                         &#x27;cvec__max_features&#x27;: [1000, 2000, 3000],\n",
       "                         &#x27;cvec__min_df&#x27;: [2, 3, 4],\n",
       "                         &#x27;cvec__ngram_range&#x27;: [(1, 2), (1, 3), (1, 4)]})</pre><b>In a Jupyter environment, please rerun this cell to show the HTML representation or trust the notebook. <br />On GitHub, the HTML representation is unable to render, please try loading this page with nbviewer.org.</b></div><div class=\"sk-container\" hidden><div class=\"sk-item sk-dashed-wrapped\"><div class=\"sk-label-container\"><div class=\"sk-label sk-toggleable\"><input class=\"sk-toggleable__control sk-hidden--visually\" id=\"sk-estimator-id-5\" type=\"checkbox\" ><label for=\"sk-estimator-id-5\" class=\"sk-toggleable__label sk-toggleable__label-arrow\">GridSearchCV</label><div class=\"sk-toggleable__content\"><pre>GridSearchCV(cv=5,\n",
       "             estimator=Pipeline(steps=[(&#x27;cvec&#x27;, CountVectorizer()),\n",
       "                                       (&#x27;bb&#x27;, BernoulliNB())]),\n",
       "             param_grid={&#x27;bb__alpha&#x27;: [0.5, 0.75, 1],\n",
       "                         &#x27;cvec__max_df&#x27;: [0.7, 0.8, 0.9],\n",
       "                         &#x27;cvec__max_features&#x27;: [1000, 2000, 3000],\n",
       "                         &#x27;cvec__min_df&#x27;: [2, 3, 4],\n",
       "                         &#x27;cvec__ngram_range&#x27;: [(1, 2), (1, 3), (1, 4)]})</pre></div></div></div><div class=\"sk-parallel\"><div class=\"sk-parallel-item\"><div class=\"sk-item\"><div class=\"sk-label-container\"><div class=\"sk-label sk-toggleable\"><input class=\"sk-toggleable__control sk-hidden--visually\" id=\"sk-estimator-id-6\" type=\"checkbox\" ><label for=\"sk-estimator-id-6\" class=\"sk-toggleable__label sk-toggleable__label-arrow\">estimator: Pipeline</label><div class=\"sk-toggleable__content\"><pre>Pipeline(steps=[(&#x27;cvec&#x27;, CountVectorizer()), (&#x27;bb&#x27;, BernoulliNB())])</pre></div></div></div><div class=\"sk-serial\"><div class=\"sk-item\"><div class=\"sk-serial\"><div class=\"sk-item\"><div class=\"sk-estimator sk-toggleable\"><input class=\"sk-toggleable__control sk-hidden--visually\" id=\"sk-estimator-id-7\" type=\"checkbox\" ><label for=\"sk-estimator-id-7\" class=\"sk-toggleable__label sk-toggleable__label-arrow\">CountVectorizer</label><div class=\"sk-toggleable__content\"><pre>CountVectorizer()</pre></div></div></div><div class=\"sk-item\"><div class=\"sk-estimator sk-toggleable\"><input class=\"sk-toggleable__control sk-hidden--visually\" id=\"sk-estimator-id-8\" type=\"checkbox\" ><label for=\"sk-estimator-id-8\" class=\"sk-toggleable__label sk-toggleable__label-arrow\">BernoulliNB</label><div class=\"sk-toggleable__content\"><pre>BernoulliNB()</pre></div></div></div></div></div></div></div></div></div></div></div></div>"
      ],
      "text/plain": [
       "GridSearchCV(cv=5,\n",
       "             estimator=Pipeline(steps=[('cvec', CountVectorizer()),\n",
       "                                       ('bb', BernoulliNB())]),\n",
       "             param_grid={'bb__alpha': [0.5, 0.75, 1],\n",
       "                         'cvec__max_df': [0.7, 0.8, 0.9],\n",
       "                         'cvec__max_features': [1000, 2000, 3000],\n",
       "                         'cvec__min_df': [2, 3, 4],\n",
       "                         'cvec__ngram_range': [(1, 2), (1, 3), (1, 4)]})"
      ]
     },
     "execution_count": 105,
     "metadata": {},
     "output_type": "execute_result"
    }
   ],
   "source": [
    "#GridSearch the training data.\n",
    "\n",
    "gs.fit(X_train, y_train)"
   ]
  },
  {
   "cell_type": "code",
   "execution_count": 106,
   "id": "a0ddb153-6084-49a2-aaea-acd116d59071",
   "metadata": {},
   "outputs": [
    {
     "name": "stdout",
     "output_type": "stream",
     "text": [
      "The best accuracy score in all models tested in grid search is 87.0%\n"
     ]
    }
   ],
   "source": [
    "#What was the best score?\n",
    "print(f'The best accuracy score in all models tested in grid search is {round(gs.best_score_,2) * 100}%')"
   ]
  },
  {
   "cell_type": "code",
   "execution_count": 107,
   "id": "12c11ca3-3cf7-4117-883e-5f50523ecc94",
   "metadata": {},
   "outputs": [
    {
     "data": {
      "text/plain": [
       "{'bb__alpha': 0.75,\n",
       " 'cvec__max_df': 0.7,\n",
       " 'cvec__max_features': 2000,\n",
       " 'cvec__min_df': 3,\n",
       " 'cvec__ngram_range': (1, 3)}"
      ]
     },
     "execution_count": 107,
     "metadata": {},
     "output_type": "execute_result"
    }
   ],
   "source": [
    "# Breakdown of the parameters chosen to make the best model.  Liblinear was the only option added to pipe parameters.\n",
    "gs.best_params_"
   ]
  },
  {
   "cell_type": "markdown",
   "id": "74cbdb57-864b-44ee-a161-fedf9c1d9cac",
   "metadata": {},
   "source": [
    "### Predictions and Interpretation\n",
    "___\n",
    "\n",
    "Results - Model resulted in 90% for both the training and testing accuracy score which is the best of any attempted model.  Testing and training accuracy were both at 90%  The prediction accurary is 87%"
   ]
  },
  {
   "cell_type": "markdown",
   "id": "a4c4683f-2370-434d-b07e-7077344f6b33",
   "metadata": {},
   "source": [
    "#### Predictions"
   ]
  },
  {
   "cell_type": "code",
   "execution_count": 108,
   "id": "cd714f84-33dc-48c1-8ea4-51356f15ebcf",
   "metadata": {},
   "outputs": [
    {
     "name": "stdout",
     "output_type": "stream",
     "text": [
      "Training accuracy score is at 90.0%\n"
     ]
    }
   ],
   "source": [
    "#Training set results\n",
    "print(f'Training accuracy score is at {round(gs.score(X_train, y_train),2) * 100}%')"
   ]
  },
  {
   "cell_type": "code",
   "execution_count": 109,
   "id": "4a65eb79-2b84-4c38-a76d-4d11fc551f96",
   "metadata": {},
   "outputs": [
    {
     "name": "stdout",
     "output_type": "stream",
     "text": [
      "Testing accuracy score is at 90.0%\n"
     ]
    }
   ],
   "source": [
    "# Testing set results - Null model is at 56%\n",
    "print(f'Testing accuracy score is at {round(gs.score(X_test, y_test),2) * 100}%')"
   ]
  },
  {
   "cell_type": "code",
   "execution_count": 110,
   "id": "2dc131fd-1b60-4f71-97cd-27ad120beb4c",
   "metadata": {},
   "outputs": [
    {
     "data": {
      "text/plain": [
       "array([1, 1, 1, 1, 0, 1, 0, 1, 1, 1, 1, 1, 1, 1, 1, 1, 1, 1, 1, 1],\n",
       "      dtype=int64)"
      ]
     },
     "execution_count": 110,
     "metadata": {},
     "output_type": "execute_result"
    }
   ],
   "source": [
    "# The next two slides show how the model predicts (fountainpens = 1 and pens = 0) and the probability for each row value.\n",
    "# First 20 samples are shown.\n",
    "pred = gs.predict(X_test)\n",
    "pred[:20]"
   ]
  },
  {
   "cell_type": "code",
   "execution_count": 226,
   "id": "be1bbb76-772f-4089-b6d5-e866820588a5",
   "metadata": {},
   "outputs": [
    {
     "data": {
      "text/plain": [
       "array([[4.20908061e-01, 5.79091939e-01],\n",
       "       [1.92679595e-02, 9.80732040e-01],\n",
       "       [9.48873183e-04, 9.99051127e-01],\n",
       "       [3.06938266e-03, 9.96930617e-01],\n",
       "       [9.94608435e-01, 5.39156549e-03],\n",
       "       [2.42965308e-02, 9.75703469e-01],\n",
       "       [5.26356124e-01, 4.73643876e-01],\n",
       "       [8.54828732e-02, 9.14517127e-01],\n",
       "       [8.83872464e-02, 9.11612754e-01],\n",
       "       [2.38316065e-03, 9.97616839e-01],\n",
       "       [6.67558329e-17, 1.00000000e+00],\n",
       "       [1.55384710e-05, 9.99984462e-01],\n",
       "       [6.05319015e-08, 9.99999939e-01],\n",
       "       [4.77592382e-01, 5.22407618e-01],\n",
       "       [2.52244960e-09, 9.99999997e-01],\n",
       "       [2.03433116e-01, 7.96566884e-01],\n",
       "       [8.47798095e-04, 9.99152202e-01],\n",
       "       [1.27468284e-07, 9.99999873e-01],\n",
       "       [2.43374708e-01, 7.56625292e-01],\n",
       "       [3.83640704e-03, 9.96163593e-01]])"
      ]
     },
     "execution_count": 226,
     "metadata": {},
     "output_type": "execute_result"
    }
   ],
   "source": [
    "gs.predict_proba(X_test)[:20]"
   ]
  },
  {
   "cell_type": "code",
   "execution_count": 227,
   "id": "3b6608e3-87c5-4efe-b472-21bf82dc493b",
   "metadata": {},
   "outputs": [
    {
     "name": "stdout",
     "output_type": "stream",
     "text": [
      "This model has an accuracy score of 89.7%\n"
     ]
    }
   ],
   "source": [
    "# Accuracy Score - What precentage of total predictions were correct?\n",
    "print(f'This model has an accuracy score of {round(metrics.accuracy_score(y_test, pred) * 100,2)}%')"
   ]
  },
  {
   "cell_type": "markdown",
   "id": "6a7396a4-d10a-42c6-b0c3-002c05cc6cd8",
   "metadata": {},
   "source": [
    "## Confusion Matrix and Interpretation\n",
    "-----\n",
    "In this scenerio, I would ideally prefer to never incorrectly classify a pen subreddit post as a fountainpens post.  Pens are a more general topic and talking about fountain pens would be acceptable.  It's safe to assume people browsing the fountainpens subreddit are only interested in fountain pens.<br><br>\n",
    "Essentially I want to mimimize false positives.  **The specificity score is ~91%** and this is the only model that handles false negatives better than false positives.<br>"
   ]
  },
  {
   "cell_type": "code",
   "execution_count": 112,
   "id": "5de30ab4-262e-402e-ba93-afd73e381e1d",
   "metadata": {},
   "outputs": [
    {
     "name": "stdout",
     "output_type": "stream",
     "text": [
      "283 27 45 344\n"
     ]
    }
   ],
   "source": [
    "#Create a confusion matrix array\n",
    "tn, fp, fn, tp = confusion_matrix(y_test, pred).ravel()\n",
    "\n",
    "print(tn, fp, fn, tp)"
   ]
  },
  {
   "cell_type": "code",
   "execution_count": 113,
   "id": "5b8be2c8-ff65-4437-a120-f91b744acf0f",
   "metadata": {},
   "outputs": [
    {
     "data": {
      "image/png": "[encoded data removed]",
      "text/plain": [
       "<Figure size 640x480 with 2 Axes>"
      ]
     },
     "metadata": {},
     "output_type": "display_data"
    }
   ],
   "source": [
    "#Create a confusion matrix\n",
    "#Create a confusion matrix\n",
    "disp = ConfusionMatrixDisplay(confusion_matrix=confusion_matrix(y_test, pred),\n",
    "                             display_labels=gs.classes_)\n",
    "\n",
    "disp.plot();"
   ]
  },
  {
   "cell_type": "code",
   "execution_count": 114,
   "id": "91bc1d34-7a00-41b4-9f4c-471a4ebbfaed",
   "metadata": {},
   "outputs": [
    {
     "data": {
      "text/plain": [
       "0.884318766066838"
      ]
     },
     "execution_count": 114,
     "metadata": {},
     "output_type": "execute_result"
    }
   ],
   "source": [
    "# How sensitive is this model? ~88%\n",
    "metrics.recall_score(y_test, pred)"
   ]
  },
  {
   "cell_type": "code",
   "execution_count": 115,
   "id": "3de27799-3754-479c-b4e3-dc52661bdfac",
   "metadata": {},
   "outputs": [
    {
     "data": {
      "text/plain": [
       "0.9129032258064517"
      ]
     },
     "execution_count": 115,
     "metadata": {},
     "output_type": "execute_result"
    }
   ],
   "source": [
    "# What is the specificity of the model?  - I care about this metric more and this is the best performing model for\n",
    "# this metric.  Best score of all models at ~91%\n",
    "tn / (tn + fp)"
   ]
  },
  {
   "cell_type": "code",
   "execution_count": 116,
   "id": "cf98686c-186a-4e08-9a8e-058ac1699933",
   "metadata": {},
   "outputs": [
    {
     "data": {
      "text/plain": [
       "0.884318766066838"
      ]
     },
     "execution_count": 116,
     "metadata": {},
     "output_type": "execute_result"
    }
   ],
   "source": [
    "# Recall is the same as sensitivity ~88%\n",
    "metrics.recall_score(y_test, pred)"
   ]
  },
  {
   "cell_type": "code",
   "execution_count": 117,
   "id": "74c0a08c-b2f7-4bf1-b105-5c6cade4b18b",
   "metadata": {},
   "outputs": [
    {
     "data": {
      "text/plain": [
       "<Figure size 2000x800 with 0 Axes>"
      ]
     },
     "metadata": {},
     "output_type": "display_data"
    },
    {
     "data": {
      "image/png": "[encoded data removed]",
      "text/plain": [
       "<Figure size 640x480 with 1 Axes>"
      ]
     },
     "metadata": {},
     "output_type": "display_data"
    }
   ],
   "source": [
    "plt.figure(figsize = (20,8))\n",
    "plt.style.use(\"fivethirtyeight\")\n",
    "plt.tight_layout()\n",
    "\n",
    "RocCurveDisplay.from_estimator(gs, X_test, y_test)\n",
    "\n",
    "# The 50/50 line\n",
    "plt.plot([0,1], [0,1],\n",
    "         label = 'unable to predict',\n",
    "         linestyle = 'dotted',\n",
    "         color = 'midnightblue');\n",
    "\n",
    "# Legend\n",
    "plt.legend()\n",
    "plt.title('ROC Curve of Logistic Regression with TF-IDF Vectorizer')\n",
    "plt.xlabel('False Positive Rate')\n",
    "plt.ylabel('True Positive Rate: Positive: 1')\n",
    "plt.savefig('./plot_images/logreg_cvec_roc_curve.png', dpi = 192);"
   ]
  },
  {
   "cell_type": "code",
   "execution_count": 118,
   "id": "cd397e56-a754-4281-8602-37fb5897fba7",
   "metadata": {},
   "outputs": [
    {
     "data": {
      "text/plain": [
       "0.9052631578947368"
      ]
     },
     "execution_count": 118,
     "metadata": {},
     "output_type": "execute_result"
    }
   ],
   "source": [
    "#F1 Score - Unsure if this is meaningful because the classes weren't very unbalanced.\n",
    "f1_score(y_test, pred)"
   ]
  },
  {
   "cell_type": "code",
   "execution_count": 120,
   "id": "401d650c-23d9-4992-90fe-2102c1c703a4",
   "metadata": {},
   "outputs": [
    {
     "data": {
      "text/html": [
       "<div>\n",
       "<style scoped>\n",
       "    .dataframe tbody tr th:only-of-type {\n",
       "        vertical-align: middle;\n",
       "    }\n",
       "\n",
       "    .dataframe tbody tr th {\n",
       "        vertical-align: top;\n",
       "    }\n",
       "\n",
       "    .dataframe thead th {\n",
       "        text-align: right;\n",
       "    }\n",
       "</style>\n",
       "<table border=\"1\" class=\"dataframe\">\n",
       "  <thead>\n",
       "    <tr style=\"text-align: right;\">\n",
       "      <th></th>\n",
       "      <th>pens</th>\n",
       "      <th>fountainpens</th>\n",
       "      <th>true_values</th>\n",
       "    </tr>\n",
       "  </thead>\n",
       "  <tbody>\n",
       "    <tr>\n",
       "      <th>0</th>\n",
       "      <td>0.420908</td>\n",
       "      <td>0.579092</td>\n",
       "      <td>1</td>\n",
       "    </tr>\n",
       "    <tr>\n",
       "      <th>1</th>\n",
       "      <td>0.019268</td>\n",
       "      <td>0.980732</td>\n",
       "      <td>1</td>\n",
       "    </tr>\n",
       "    <tr>\n",
       "      <th>2</th>\n",
       "      <td>0.000949</td>\n",
       "      <td>0.999051</td>\n",
       "      <td>1</td>\n",
       "    </tr>\n",
       "    <tr>\n",
       "      <th>3</th>\n",
       "      <td>0.003069</td>\n",
       "      <td>0.996931</td>\n",
       "      <td>1</td>\n",
       "    </tr>\n",
       "    <tr>\n",
       "      <th>4</th>\n",
       "      <td>0.994608</td>\n",
       "      <td>0.005392</td>\n",
       "      <td>0</td>\n",
       "    </tr>\n",
       "  </tbody>\n",
       "</table>\n",
       "</div>"
      ],
      "text/plain": [
       "       pens  fountainpens  true_values\n",
       "0  0.420908      0.579092            1\n",
       "1  0.019268      0.980732            1\n",
       "2  0.000949      0.999051            1\n",
       "3  0.003069      0.996931            1\n",
       "4  0.994608      0.005392            0"
      ]
     },
     "execution_count": 120,
     "metadata": {},
     "output_type": "execute_result"
    }
   ],
   "source": [
    "pred_df = pd.DataFrame(\n",
    "    gs.predict_proba(X_test),\n",
    "    columns=['pens', 'fountainpens'])\n",
    "\n",
    "pred_df['true_values'] = y_test.values\n",
    "\n",
    "pred_df.head()"
   ]
  },
  {
   "cell_type": "code",
   "execution_count": 121,
   "id": "a2ee5c04-b2f9-406a-bcec-443d981d5146",
   "metadata": {},
   "outputs": [
    {
     "data": {
      "image/png": "[encoded data removed]",
      "text/plain": [
       "<Figure size 1200x500 with 1 Axes>"
      ]
     },
     "metadata": {},
     "output_type": "display_data"
    }
   ],
   "source": [
    "plt.figure(figsize=(12,5))\n",
    "plt.tight_layout()\n",
    "\n",
    "alive_subset = pred_df[pred_df['true_values'] == 0]\n",
    "plt.hist(alive_subset['fountainpens'], label='pens', bins=15, alpha=.5)\n",
    "\n",
    "dead_subset = pred_df[pred_df['true_values'] == 1]\n",
    "plt.hist(dead_subset['fountainpens'], label='fountainpens', bins=15, alpha=.5)\n",
    "\n",
    "plt.axvline(.5, color='black', linestyle='-', label='threshold')\n",
    "plt.xlabel('Predicted probability of outcome = fountainpens', size = 20)\n",
    "\n",
    "plt.legend();"
   ]
  },
  {
   "cell_type": "code",
   "execution_count": null,
   "id": "9cb3a6b3-077b-4d4c-831b-ff49279e675c",
   "metadata": {},
   "outputs": [],
   "source": []
  },
  {
   "cell_type": "code",
   "execution_count": null,
   "id": "89bdd3b8-7d28-44ff-9a5a-517d5baae1b8",
   "metadata": {},
   "outputs": [],
   "source": []
  },
  {
   "cell_type": "code",
   "execution_count": 126,
   "id": "eab43473-65be-4608-aa6e-77470e43ba2b",
   "metadata": {},
   "outputs": [],
   "source": [
    "cvec = CountVectorizer()"
   ]
  },
  {
   "cell_type": "code",
   "execution_count": 127,
   "id": "d51849ad-b440-496b-89e7-67da5df51b35",
   "metadata": {},
   "outputs": [
    {
     "data": {
      "text/html": [
       "<style>#sk-container-id-3 {color: black;background-color: white;}#sk-container-id-3 pre{padding: 0;}#sk-container-id-3 div.sk-toggleable {background-color: white;}#sk-container-id-3 label.sk-toggleable__label {cursor: pointer;display: block;width: 100%;margin-bottom: 0;padding: 0.3em;box-sizing: border-box;text-align: center;}#sk-container-id-3 label.sk-toggleable__label-arrow:before {content: \"▸\";float: left;margin-right: 0.25em;color: #696969;}#sk-container-id-3 label.sk-toggleable__label-arrow:hover:before {color: black;}#sk-container-id-3 div.sk-estimator:hover label.sk-toggleable__label-arrow:before {color: black;}#sk-container-id-3 div.sk-toggleable__content {max-height: 0;max-width: 0;overflow: hidden;text-align: left;background-color: #f0f8ff;}#sk-container-id-3 div.sk-toggleable__content pre {margin: 0.2em;color: black;border-radius: 0.25em;background-color: #f0f8ff;}#sk-container-id-3 input.sk-toggleable__control:checked~div.sk-toggleable__content {max-height: 200px;max-width: 100%;overflow: auto;}#sk-container-id-3 input.sk-toggleable__control:checked~label.sk-toggleable__label-arrow:before {content: \"▾\";}#sk-container-id-3 div.sk-estimator input.sk-toggleable__control:checked~label.sk-toggleable__label {background-color: #d4ebff;}#sk-container-id-3 div.sk-label input.sk-toggleable__control:checked~label.sk-toggleable__label {background-color: #d4ebff;}#sk-container-id-3 input.sk-hidden--visually {border: 0;clip: rect(1px 1px 1px 1px);clip: rect(1px, 1px, 1px, 1px);height: 1px;margin: -1px;overflow: hidden;padding: 0;position: absolute;width: 1px;}#sk-container-id-3 div.sk-estimator {font-family: monospace;background-color: #f0f8ff;border: 1px dotted black;border-radius: 0.25em;box-sizing: border-box;margin-bottom: 0.5em;}#sk-container-id-3 div.sk-estimator:hover {background-color: #d4ebff;}#sk-container-id-3 div.sk-parallel-item::after {content: \"\";width: 100%;border-bottom: 1px solid gray;flex-grow: 1;}#sk-container-id-3 div.sk-label:hover label.sk-toggleable__label {background-color: #d4ebff;}#sk-container-id-3 div.sk-serial::before {content: \"\";position: absolute;border-left: 1px solid gray;box-sizing: border-box;top: 0;bottom: 0;left: 50%;z-index: 0;}#sk-container-id-3 div.sk-serial {display: flex;flex-direction: column;align-items: center;background-color: white;padding-right: 0.2em;padding-left: 0.2em;position: relative;}#sk-container-id-3 div.sk-item {position: relative;z-index: 1;}#sk-container-id-3 div.sk-parallel {display: flex;align-items: stretch;justify-content: center;background-color: white;position: relative;}#sk-container-id-3 div.sk-item::before, #sk-container-id-3 div.sk-parallel-item::before {content: \"\";position: absolute;border-left: 1px solid gray;box-sizing: border-box;top: 0;bottom: 0;left: 50%;z-index: -1;}#sk-container-id-3 div.sk-parallel-item {display: flex;flex-direction: column;z-index: 1;position: relative;background-color: white;}#sk-container-id-3 div.sk-parallel-item:first-child::after {align-self: flex-end;width: 50%;}#sk-container-id-3 div.sk-parallel-item:last-child::after {align-self: flex-start;width: 50%;}#sk-container-id-3 div.sk-parallel-item:only-child::after {width: 0;}#sk-container-id-3 div.sk-dashed-wrapped {border: 1px dashed gray;margin: 0 0.4em 0.5em 0.4em;box-sizing: border-box;padding-bottom: 0.4em;background-color: white;}#sk-container-id-3 div.sk-label label {font-family: monospace;font-weight: bold;display: inline-block;line-height: 1.2em;}#sk-container-id-3 div.sk-label-container {text-align: center;}#sk-container-id-3 div.sk-container {/* jupyter's `normalize.less` sets `[hidden] { display: none; }` but bootstrap.min.css set `[hidden] { display: none !important; }` so we also need the `!important` here to be able to override the default hidden behavior on the sphinx rendered scikit-learn.org. See: https://github.com/scikit-learn/scikit-learn/issues/21755 */display: inline-block !important;position: relative;}#sk-container-id-3 div.sk-text-repr-fallback {display: none;}</style><div id=\"sk-container-id-3\" class=\"sk-top-container\"><div class=\"sk-text-repr-fallback\"><pre>CountVectorizer()</pre><b>In a Jupyter environment, please rerun this cell to show the HTML representation or trust the notebook. <br />On GitHub, the HTML representation is unable to render, please try loading this page with nbviewer.org.</b></div><div class=\"sk-container\" hidden><div class=\"sk-item\"><div class=\"sk-estimator sk-toggleable\"><input class=\"sk-toggleable__control sk-hidden--visually\" id=\"sk-estimator-id-9\" type=\"checkbox\" checked><label for=\"sk-estimator-id-9\" class=\"sk-toggleable__label sk-toggleable__label-arrow\">CountVectorizer</label><div class=\"sk-toggleable__content\"><pre>CountVectorizer()</pre></div></div></div></div></div>"
      ],
      "text/plain": [
       "CountVectorizer()"
      ]
     },
     "execution_count": 127,
     "metadata": {},
     "output_type": "execute_result"
    }
   ],
   "source": [
    "cvec.fit(X_train)"
   ]
  },
  {
   "cell_type": "code",
   "execution_count": 129,
   "id": "28e56186-ee7d-41b8-b8ff-ba38fd7eeff1",
   "metadata": {},
   "outputs": [],
   "source": [
    "X_train_words = cvec.transform(X_train)"
   ]
  },
  {
   "cell_type": "code",
   "execution_count": 130,
   "id": "ab910ba1-390e-495f-8d53-fc50adf78ac7",
   "metadata": {},
   "outputs": [],
   "source": [
    "X_test_words = cvec.transform(X_test)"
   ]
  },
  {
   "cell_type": "code",
   "execution_count": 132,
   "id": "7ce9d9ae-7b6a-4163-8770-c5b9eb789e63",
   "metadata": {},
   "outputs": [
    {
     "data": {
      "text/plain": [
       "scipy.sparse._csr.csr_matrix"
      ]
     },
     "execution_count": 132,
     "metadata": {},
     "output_type": "execute_result"
    }
   ],
   "source": [
    "type(X_train_words)"
   ]
  },
  {
   "cell_type": "code",
   "execution_count": 134,
   "id": "49df89c0-0baa-4180-89c4-9006f5b2bc83",
   "metadata": {},
   "outputs": [
    {
     "data": {
      "text/plain": [
       "matrix([[0, 0, 0, ..., 0, 0, 0],\n",
       "        [0, 0, 0, ..., 0, 0, 0],\n",
       "        [0, 0, 0, ..., 0, 0, 0],\n",
       "        ...,\n",
       "        [0, 0, 0, ..., 0, 0, 0],\n",
       "        [0, 0, 0, ..., 0, 0, 0],\n",
       "        [0, 0, 0, ..., 0, 0, 0]], dtype=int64)"
      ]
     },
     "execution_count": 134,
     "metadata": {},
     "output_type": "execute_result"
    }
   ],
   "source": [
    "X_train_words.todense()"
   ]
  },
  {
   "cell_type": "code",
   "execution_count": 137,
   "id": "f67a159c-a43c-4e49-967a-d94147845e77",
   "metadata": {
    "scrolled": true
   },
   "outputs": [
    {
     "data": {
      "image/png": "[encoded data removed]",
      "text/plain": [
       "<Figure size 640x480 with 1 Axes>"
      ]
     },
     "metadata": {},
     "output_type": "display_data"
    }
   ],
   "source": [
    "X_train_words_df = pd.DataFrame(X_train_words.todense(), \n",
    "                          columns=cvec.get_feature_names_out())\n",
    "\n",
    "# plot top occuring words\n",
    "X_train_words_df.sum().sort_values(ascending = False).head(10).plot(kind = 'barh');"
   ]
  },
  {
   "cell_type": "code",
   "execution_count": 223,
   "id": "4d3bbbfd-ea62-4fea-8c09-24239dcbf126",
   "metadata": {},
   "outputs": [],
   "source": [
    "pen_brands = ['pilot', 'sailor', 'twsbi', 'esterbrook', 'lamy', 'kaweco', 'visconti', 'benu', 'diplomat', 'edison', 'goulet', 'pelikan', 'platinum', 'schon', 'sheaffer', 'taccia']\n",
    "\n",
    "pen_brands_count = X_train_words_df[pen_brands].sum()"
   ]
  },
  {
   "cell_type": "code",
   "execution_count": 213,
   "id": "7dbdd154-babb-49ac-a86d-86fd822c6da6",
   "metadata": {},
   "outputs": [
    {
     "data": {
      "text/plain": [
       "Text(0, 0.5, 'Pen Brand')"
      ]
     },
     "execution_count": 213,
     "metadata": {},
     "output_type": "execute_result"
    },
    {
     "data": {
      "image/png": "[encoded data removed]",
      "text/plain": [
       "<Figure size 640x480 with 1 Axes>"
      ]
     },
     "metadata": {},
     "output_type": "display_data"
    }
   ],
   "source": [
    "pen_brands_count.sort_values(ascending = True).plot(kind = 'barh', )\n",
    "\n",
    "plt.ylabel('Pen Brand'.title()"
   ]
  },
  {
   "cell_type": "code",
   "execution_count": 143,
   "id": "cf77b197-c5db-4100-9ec2-6610ff2080e1",
   "metadata": {},
   "outputs": [
    {
     "data": {
      "text/html": [
       "<div>\n",
       "<style scoped>\n",
       "    .dataframe tbody tr th:only-of-type {\n",
       "        vertical-align: middle;\n",
       "    }\n",
       "\n",
       "    .dataframe tbody tr th {\n",
       "        vertical-align: top;\n",
       "    }\n",
       "\n",
       "    .dataframe thead th {\n",
       "        text-align: right;\n",
       "    }\n",
       "</style>\n",
       "<table border=\"1\" class=\"dataframe\">\n",
       "  <thead>\n",
       "    <tr style=\"text-align: right;\">\n",
       "      <th></th>\n",
       "      <th>aaah</th>\n",
       "      <th>aaand</th>\n",
       "      <th>aantique</th>\n",
       "      <th>ab</th>\n",
       "      <th>abalone</th>\n",
       "      <th>abc</th>\n",
       "      <th>ability</th>\n",
       "      <th>abit</th>\n",
       "      <th>able</th>\n",
       "      <th>absent</th>\n",
       "      <th>...</th>\n",
       "      <th>zoom</th>\n",
       "      <th>zsolnay</th>\n",
       "      <th>zurich</th>\n",
       "      <th>éclat</th>\n",
       "      <th>émigré</th>\n",
       "      <th>夜桜</th>\n",
       "      <th>東京</th>\n",
       "      <th>根津神社</th>\n",
       "      <th>酒井抱一</th>\n",
       "      <th>金木犀</th>\n",
       "    </tr>\n",
       "  </thead>\n",
       "  <tbody>\n",
       "    <tr>\n",
       "      <th>0</th>\n",
       "      <td>0</td>\n",
       "      <td>0</td>\n",
       "      <td>0</td>\n",
       "      <td>0</td>\n",
       "      <td>0</td>\n",
       "      <td>0</td>\n",
       "      <td>0</td>\n",
       "      <td>0</td>\n",
       "      <td>0</td>\n",
       "      <td>0</td>\n",
       "      <td>...</td>\n",
       "      <td>0</td>\n",
       "      <td>0</td>\n",
       "      <td>0</td>\n",
       "      <td>0</td>\n",
       "      <td>0</td>\n",
       "      <td>0</td>\n",
       "      <td>0</td>\n",
       "      <td>0</td>\n",
       "      <td>0</td>\n",
       "      <td>0</td>\n",
       "    </tr>\n",
       "    <tr>\n",
       "      <th>1</th>\n",
       "      <td>0</td>\n",
       "      <td>0</td>\n",
       "      <td>0</td>\n",
       "      <td>0</td>\n",
       "      <td>0</td>\n",
       "      <td>0</td>\n",
       "      <td>0</td>\n",
       "      <td>0</td>\n",
       "      <td>0</td>\n",
       "      <td>0</td>\n",
       "      <td>...</td>\n",
       "      <td>0</td>\n",
       "      <td>0</td>\n",
       "      <td>0</td>\n",
       "      <td>0</td>\n",
       "      <td>0</td>\n",
       "      <td>0</td>\n",
       "      <td>0</td>\n",
       "      <td>0</td>\n",
       "      <td>0</td>\n",
       "      <td>0</td>\n",
       "    </tr>\n",
       "    <tr>\n",
       "      <th>2</th>\n",
       "      <td>0</td>\n",
       "      <td>0</td>\n",
       "      <td>0</td>\n",
       "      <td>0</td>\n",
       "      <td>0</td>\n",
       "      <td>0</td>\n",
       "      <td>0</td>\n",
       "      <td>0</td>\n",
       "      <td>0</td>\n",
       "      <td>0</td>\n",
       "      <td>...</td>\n",
       "      <td>0</td>\n",
       "      <td>0</td>\n",
       "      <td>0</td>\n",
       "      <td>0</td>\n",
       "      <td>0</td>\n",
       "      <td>0</td>\n",
       "      <td>0</td>\n",
       "      <td>0</td>\n",
       "      <td>0</td>\n",
       "      <td>0</td>\n",
       "    </tr>\n",
       "    <tr>\n",
       "      <th>3</th>\n",
       "      <td>0</td>\n",
       "      <td>0</td>\n",
       "      <td>0</td>\n",
       "      <td>0</td>\n",
       "      <td>0</td>\n",
       "      <td>0</td>\n",
       "      <td>0</td>\n",
       "      <td>0</td>\n",
       "      <td>0</td>\n",
       "      <td>0</td>\n",
       "      <td>...</td>\n",
       "      <td>0</td>\n",
       "      <td>0</td>\n",
       "      <td>0</td>\n",
       "      <td>0</td>\n",
       "      <td>0</td>\n",
       "      <td>0</td>\n",
       "      <td>0</td>\n",
       "      <td>0</td>\n",
       "      <td>0</td>\n",
       "      <td>0</td>\n",
       "    </tr>\n",
       "    <tr>\n",
       "      <th>4</th>\n",
       "      <td>0</td>\n",
       "      <td>0</td>\n",
       "      <td>0</td>\n",
       "      <td>0</td>\n",
       "      <td>0</td>\n",
       "      <td>0</td>\n",
       "      <td>0</td>\n",
       "      <td>0</td>\n",
       "      <td>0</td>\n",
       "      <td>0</td>\n",
       "      <td>...</td>\n",
       "      <td>0</td>\n",
       "      <td>0</td>\n",
       "      <td>0</td>\n",
       "      <td>0</td>\n",
       "      <td>0</td>\n",
       "      <td>0</td>\n",
       "      <td>0</td>\n",
       "      <td>0</td>\n",
       "      <td>0</td>\n",
       "      <td>0</td>\n",
       "    </tr>\n",
       "    <tr>\n",
       "      <th>...</th>\n",
       "      <td>...</td>\n",
       "      <td>...</td>\n",
       "      <td>...</td>\n",
       "      <td>...</td>\n",
       "      <td>...</td>\n",
       "      <td>...</td>\n",
       "      <td>...</td>\n",
       "      <td>...</td>\n",
       "      <td>...</td>\n",
       "      <td>...</td>\n",
       "      <td>...</td>\n",
       "      <td>...</td>\n",
       "      <td>...</td>\n",
       "      <td>...</td>\n",
       "      <td>...</td>\n",
       "      <td>...</td>\n",
       "      <td>...</td>\n",
       "      <td>...</td>\n",
       "      <td>...</td>\n",
       "      <td>...</td>\n",
       "      <td>...</td>\n",
       "    </tr>\n",
       "    <tr>\n",
       "      <th>2092</th>\n",
       "      <td>0</td>\n",
       "      <td>0</td>\n",
       "      <td>0</td>\n",
       "      <td>0</td>\n",
       "      <td>0</td>\n",
       "      <td>0</td>\n",
       "      <td>0</td>\n",
       "      <td>0</td>\n",
       "      <td>0</td>\n",
       "      <td>0</td>\n",
       "      <td>...</td>\n",
       "      <td>0</td>\n",
       "      <td>0</td>\n",
       "      <td>0</td>\n",
       "      <td>0</td>\n",
       "      <td>0</td>\n",
       "      <td>0</td>\n",
       "      <td>0</td>\n",
       "      <td>0</td>\n",
       "      <td>0</td>\n",
       "      <td>0</td>\n",
       "    </tr>\n",
       "    <tr>\n",
       "      <th>2093</th>\n",
       "      <td>0</td>\n",
       "      <td>0</td>\n",
       "      <td>0</td>\n",
       "      <td>0</td>\n",
       "      <td>0</td>\n",
       "      <td>0</td>\n",
       "      <td>0</td>\n",
       "      <td>0</td>\n",
       "      <td>0</td>\n",
       "      <td>0</td>\n",
       "      <td>...</td>\n",
       "      <td>0</td>\n",
       "      <td>0</td>\n",
       "      <td>0</td>\n",
       "      <td>0</td>\n",
       "      <td>0</td>\n",
       "      <td>0</td>\n",
       "      <td>0</td>\n",
       "      <td>0</td>\n",
       "      <td>0</td>\n",
       "      <td>0</td>\n",
       "    </tr>\n",
       "    <tr>\n",
       "      <th>2094</th>\n",
       "      <td>0</td>\n",
       "      <td>0</td>\n",
       "      <td>0</td>\n",
       "      <td>0</td>\n",
       "      <td>0</td>\n",
       "      <td>0</td>\n",
       "      <td>0</td>\n",
       "      <td>0</td>\n",
       "      <td>0</td>\n",
       "      <td>0</td>\n",
       "      <td>...</td>\n",
       "      <td>0</td>\n",
       "      <td>0</td>\n",
       "      <td>0</td>\n",
       "      <td>0</td>\n",
       "      <td>0</td>\n",
       "      <td>0</td>\n",
       "      <td>0</td>\n",
       "      <td>0</td>\n",
       "      <td>0</td>\n",
       "      <td>0</td>\n",
       "    </tr>\n",
       "    <tr>\n",
       "      <th>2095</th>\n",
       "      <td>0</td>\n",
       "      <td>0</td>\n",
       "      <td>0</td>\n",
       "      <td>0</td>\n",
       "      <td>0</td>\n",
       "      <td>0</td>\n",
       "      <td>0</td>\n",
       "      <td>0</td>\n",
       "      <td>0</td>\n",
       "      <td>0</td>\n",
       "      <td>...</td>\n",
       "      <td>0</td>\n",
       "      <td>0</td>\n",
       "      <td>0</td>\n",
       "      <td>0</td>\n",
       "      <td>0</td>\n",
       "      <td>0</td>\n",
       "      <td>0</td>\n",
       "      <td>0</td>\n",
       "      <td>0</td>\n",
       "      <td>0</td>\n",
       "    </tr>\n",
       "    <tr>\n",
       "      <th>2096</th>\n",
       "      <td>0</td>\n",
       "      <td>0</td>\n",
       "      <td>0</td>\n",
       "      <td>0</td>\n",
       "      <td>0</td>\n",
       "      <td>0</td>\n",
       "      <td>0</td>\n",
       "      <td>0</td>\n",
       "      <td>0</td>\n",
       "      <td>0</td>\n",
       "      <td>...</td>\n",
       "      <td>0</td>\n",
       "      <td>0</td>\n",
       "      <td>0</td>\n",
       "      <td>0</td>\n",
       "      <td>0</td>\n",
       "      <td>0</td>\n",
       "      <td>0</td>\n",
       "      <td>0</td>\n",
       "      <td>0</td>\n",
       "      <td>0</td>\n",
       "    </tr>\n",
       "  </tbody>\n",
       "</table>\n",
       "<p>2097 rows × 6372 columns</p>\n",
       "</div>"
      ],
      "text/plain": [
       "      aaah  aaand  aantique  ab  abalone  abc  ability  abit  able  absent  \\\n",
       "0        0      0         0   0        0    0        0     0     0       0   \n",
       "1        0      0         0   0        0    0        0     0     0       0   \n",
       "2        0      0         0   0        0    0        0     0     0       0   \n",
       "3        0      0         0   0        0    0        0     0     0       0   \n",
       "4        0      0         0   0        0    0        0     0     0       0   \n",
       "...    ...    ...       ...  ..      ...  ...      ...   ...   ...     ...   \n",
       "2092     0      0         0   0        0    0        0     0     0       0   \n",
       "2093     0      0         0   0        0    0        0     0     0       0   \n",
       "2094     0      0         0   0        0    0        0     0     0       0   \n",
       "2095     0      0         0   0        0    0        0     0     0       0   \n",
       "2096     0      0         0   0        0    0        0     0     0       0   \n",
       "\n",
       "      ...  zoom  zsolnay  zurich  éclat  émigré  夜桜  東京  根津神社  酒井抱一  金木犀  \n",
       "0     ...     0        0       0      0       0   0   0     0     0    0  \n",
       "1     ...     0        0       0      0       0   0   0     0     0    0  \n",
       "2     ...     0        0       0      0       0   0   0     0     0    0  \n",
       "3     ...     0        0       0      0       0   0   0     0     0    0  \n",
       "4     ...     0        0       0      0       0   0   0     0     0    0  \n",
       "...   ...   ...      ...     ...    ...     ...  ..  ..   ...   ...  ...  \n",
       "2092  ...     0        0       0      0       0   0   0     0     0    0  \n",
       "2093  ...     0        0       0      0       0   0   0     0     0    0  \n",
       "2094  ...     0        0       0      0       0   0   0     0     0    0  \n",
       "2095  ...     0        0       0      0       0   0   0     0     0    0  \n",
       "2096  ...     0        0       0      0       0   0   0     0     0    0  \n",
       "\n",
       "[2097 rows x 6372 columns]"
      ]
     },
     "execution_count": 143,
     "metadata": {},
     "output_type": "execute_result"
    }
   ],
   "source": [
    "X_train_words_df"
   ]
  },
  {
   "cell_type": "code",
   "execution_count": null,
   "id": "44aa53d3-65f1-4521-b63a-aa0125b52003",
   "metadata": {},
   "outputs": [],
   "source": []
  }
 ],
 "metadata": {
  "kernelspec": {
   "display_name": "Python 3 (ipykernel)",
   "language": "python",
   "name": "python3"
  },
  "language_info": {
   "codemirror_mode": {
    "name": "ipython",
    "version": 3
   },
   "file_extension": ".py",
   "mimetype": "text/x-python",
   "name": "python",
   "nbconvert_exporter": "python",
   "pygments_lexer": "ipython3",
   "version": "3.11.7"
  }
 },
 "nbformat": 4,
 "nbformat_minor": 5
}
