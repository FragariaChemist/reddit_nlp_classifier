{
 "cells": [
  {
   "attachments": {},
   "cell_type": "markdown",
   "id": "5de38f9a-72a8-46fa-ba2e-68a035d049c5",
   "metadata": {},
   "source": [
    "## Multinomial Naive Bayes Modeling and Metrics With TF-IDF Vectorier\n",
    "---\n",
    "\n",
    "## Contents\n",
    "---\n",
    "- [Library and Data Imports](#Library-and-Data-Imports)\n",
    "- [Train Test Split and Base Model](#Train-Test-Split-and-Base-Model)\n",
    "- [Multinomial Naive Bayes with CountVectorizer](#Multinomial-Naive-Bayes-with-CountVectorizer)\n",
    "- [Predictions and Interpretation](#Predictions-and-Interpretation)|\n",
    "- [Confusion Matrix Interpretation](#Confusion-Matrix-Interpretation)"
   ]
  },
  {
   "cell_type": "markdown",
   "id": "ba6bd32d-9f7f-45fe-9071-73f71be31a47",
   "metadata": {},
   "source": [
    "## Library and Data Imports\n",
    "___"
   ]
  },
  {
   "cell_type": "code",
   "execution_count": 1,
   "id": "339b2b5c-8e79-4888-8964-0f69104364ff",
   "metadata": {},
   "outputs": [],
   "source": [
    "import pandas as pd\n",
    "import matplotlib.pyplot as plt\n",
    "from sklearn import metrics\n",
    "\n",
    "from sklearn.linear_model import LogisticRegression\n",
    "from sklearn.model_selection import train_test_split, GridSearchCV, cross_val_score\n",
    "from sklearn.pipeline import Pipeline\n",
    "from sklearn.metrics import (confusion_matrix, ConfusionMatrixDisplay,accuracy_score,\n",
    "    roc_auc_score, recall_score,\n",
    "    precision_score, f1_score, classification_report, RocCurveDisplay)\n",
    "from sklearn.feature_extraction.text import CountVectorizer\n",
    "from sklearn.naive_bayes import MultinomialNB\n",
    "\n",
    "from matplotlib.ticker import FuncFormatter"
   ]
  },
  {
   "cell_type": "markdown",
   "id": "edbfc33e-db37-45de-83e7-e4e5e583c484",
   "metadata": {},
   "source": [
    "**Read in text_processed_corpus.csv**"
   ]
  },
  {
   "cell_type": "code",
   "execution_count": 2,
   "id": "09aab4e8-671e-4b53-9cff-01090267eb17",
   "metadata": {},
   "outputs": [],
   "source": [
    "text_processed_corpus = pd.read_csv('../data/text_processed_corpus.csv')"
   ]
  },
  {
   "cell_type": "markdown",
   "id": "6f869d4b-6814-4af9-b4a2-b40c12becb9b",
   "metadata": {
    "editable": true,
    "slideshow": {
     "slide_type": ""
    },
    "tags": []
   },
   "source": [
    "## Train Test Split and Base Model\n",
    "___"
   ]
  },
  {
   "cell_type": "code",
   "execution_count": 3,
   "id": "a83401f2-1a21-471c-a1eb-5e6bb6aa3349",
   "metadata": {},
   "outputs": [],
   "source": [
    "#Train Test Split\n",
    "X = text_processed_corpus['processed_text']\n",
    "y = text_processed_corpus['subreddit']\n",
    "\n",
    "X_train, X_test, y_train, y_test = train_test_split(X,y,\n",
    "                                                    stratify = y,\n",
    "                                                    random_state = 24)\n",
    "                                                    \n",
    "    "
   ]
  },
  {
   "cell_type": "markdown",
   "id": "89fb53c1-2f94-427a-802c-b5eb79105afa",
   "metadata": {},
   "source": [
    "**What is the base model?**\n",
    "* There is a **56%** chance of correctly predicting a post belongs in the fountainpens reddit."
   ]
  },
  {
   "cell_type": "code",
   "execution_count": 4,
   "id": "634a7c0f-c251-476c-8633-ed0126df5cf9",
   "metadata": {},
   "outputs": [
    {
     "data": {
      "text/plain": [
       "subreddit\n",
       "1    55.615165\n",
       "0    44.384835\n",
       "Name: proportion, dtype: float64"
      ]
     },
     "execution_count": 4,
     "metadata": {},
     "output_type": "execute_result"
    }
   ],
   "source": [
    "y.value_counts(normalize = True) * 100"
   ]
  },
  {
   "cell_type": "code",
   "execution_count": 5,
   "id": "63e8b071-bcbf-4e2e-8dc4-7601e3eb4424",
   "metadata": {},
   "outputs": [
    {
     "data": {
      "text/plain": [
       "(subreddit\n",
       " 1    0.556032\n",
       " 0    0.443968\n",
       " Name: proportion, dtype: float64,\n",
       " subreddit\n",
       " 1    0.556509\n",
       " 0    0.443491\n",
       " Name: proportion, dtype: float64)"
      ]
     },
     "execution_count": 5,
     "metadata": {},
     "output_type": "execute_result"
    }
   ],
   "source": [
    "#Ensuring that stratify is maintaining the slight skew between the two subreddit\n",
    "y_train.value_counts(normalize = True), y_test.value_counts(normalize = True)"
   ]
  },
  {
   "cell_type": "code",
   "execution_count": 6,
   "id": "2fbf6f4f-5f2a-4b24-892a-52a30458960b",
   "metadata": {},
   "outputs": [],
   "source": [
    "# Summon the vectorizers and estimators\n",
    "cvec = CountVectorizer()\n",
    "logreg = LogisticRegression()"
   ]
  },
  {
   "cell_type": "markdown",
   "id": "35cb2cb9-4de8-4b71-8532-76645d4394de",
   "metadata": {},
   "source": [
    "## Multinomial Naive Bayes with CountVectorizer\n",
    "___\n",
    "In my initial attempt at this project, I used the Bernoulli Naive Bayes model, which tracks whether words are present or not. Although it performed well, the main feedback I received was to try the Multinomial Naive Bayes model instead. This notebook will focus on building and evaluating the performance of the Multinomial Naive Bayes model."
   ]
  },
  {
   "cell_type": "code",
   "execution_count": 7,
   "id": "0f80b7ef-693a-4ccd-b47f-f63cfaec2d78",
   "metadata": {},
   "outputs": [],
   "source": [
    "# Build a pipeline\n",
    "pipe = Pipeline([\n",
    "    ('cvec', CountVectorizer()),\n",
    "    ('mb', MultinomialNB())\n",
    "])"
   ]
  },
  {
   "cell_type": "code",
   "execution_count": 8,
   "id": "6dc78c1c-f0c6-40a2-8d2d-9e7362241171",
   "metadata": {},
   "outputs": [
    {
     "data": {
      "text/plain": [
       "0.8741058655221745"
      ]
     },
     "execution_count": 8,
     "metadata": {},
     "output_type": "execute_result"
    }
   ],
   "source": [
    "# Checking an initial score without actually fitting anything.\n",
    "cross_val_score(pipe, X_train, y_train, cv=3).mean()"
   ]
  },
  {
   "cell_type": "markdown",
   "id": "8945da04-dde5-4eb2-be47-e7eeb59c85be",
   "metadata": {},
   "source": [
    "A variety of wide ranges were set for each parameter.  Several interations were run until each parameter range was narrowed down to the best ones.\n",
    "\n",
    "Each range would start with 3 or 4 variables and be adjusted depending if values preferred higher or lower variables."
   ]
  },
  {
   "cell_type": "code",
   "execution_count": 9,
   "id": "b9ef47d7-5f25-46e4-951a-f1e43fdb3573",
   "metadata": {},
   "outputs": [],
   "source": [
    "# Create parameters for a gridsearch over to see what performs best\n",
    "# I did not include a stop_words parameter becuse this was already done with SpaCy\n",
    "pipe_params = {\n",
    "    'mb__alpha':[0.95],\n",
    "    'cvec__max_features': [2000],\n",
    "    'cvec__min_df': [3],\n",
    "    'cvec__max_df': [0.7],\n",
    "    'cvec__ngram_range': [(1,3)]\n",
    "}"
   ]
  },
  {
   "cell_type": "code",
   "execution_count": 10,
   "id": "a0da5f0a-01b9-4022-97b7-1045837eb1a1",
   "metadata": {},
   "outputs": [],
   "source": [
    "#GridSearch set-up\n",
    "gs = GridSearchCV(pipe,\n",
    "                  pipe_params,\n",
    "                  cv = 5)"
   ]
  },
  {
   "cell_type": "code",
   "execution_count": 11,
   "id": "c0dcebdb-d6dd-4950-b430-18591bf8d4e5",
   "metadata": {},
   "outputs": [
    {
     "data": {
      "text/html": [
       "<style>#sk-container-id-1 {color: black;background-color: white;}#sk-container-id-1 pre{padding: 0;}#sk-container-id-1 div.sk-toggleable {background-color: white;}#sk-container-id-1 label.sk-toggleable__label {cursor: pointer;display: block;width: 100%;margin-bottom: 0;padding: 0.3em;box-sizing: border-box;text-align: center;}#sk-container-id-1 label.sk-toggleable__label-arrow:before {content: \"▸\";float: left;margin-right: 0.25em;color: #696969;}#sk-container-id-1 label.sk-toggleable__label-arrow:hover:before {color: black;}#sk-container-id-1 div.sk-estimator:hover label.sk-toggleable__label-arrow:before {color: black;}#sk-container-id-1 div.sk-toggleable__content {max-height: 0;max-width: 0;overflow: hidden;text-align: left;background-color: #f0f8ff;}#sk-container-id-1 div.sk-toggleable__content pre {margin: 0.2em;color: black;border-radius: 0.25em;background-color: #f0f8ff;}#sk-container-id-1 input.sk-toggleable__control:checked~div.sk-toggleable__content {max-height: 200px;max-width: 100%;overflow: auto;}#sk-container-id-1 input.sk-toggleable__control:checked~label.sk-toggleable__label-arrow:before {content: \"▾\";}#sk-container-id-1 div.sk-estimator input.sk-toggleable__control:checked~label.sk-toggleable__label {background-color: #d4ebff;}#sk-container-id-1 div.sk-label input.sk-toggleable__control:checked~label.sk-toggleable__label {background-color: #d4ebff;}#sk-container-id-1 input.sk-hidden--visually {border: 0;clip: rect(1px 1px 1px 1px);clip: rect(1px, 1px, 1px, 1px);height: 1px;margin: -1px;overflow: hidden;padding: 0;position: absolute;width: 1px;}#sk-container-id-1 div.sk-estimator {font-family: monospace;background-color: #f0f8ff;border: 1px dotted black;border-radius: 0.25em;box-sizing: border-box;margin-bottom: 0.5em;}#sk-container-id-1 div.sk-estimator:hover {background-color: #d4ebff;}#sk-container-id-1 div.sk-parallel-item::after {content: \"\";width: 100%;border-bottom: 1px solid gray;flex-grow: 1;}#sk-container-id-1 div.sk-label:hover label.sk-toggleable__label {background-color: #d4ebff;}#sk-container-id-1 div.sk-serial::before {content: \"\";position: absolute;border-left: 1px solid gray;box-sizing: border-box;top: 0;bottom: 0;left: 50%;z-index: 0;}#sk-container-id-1 div.sk-serial {display: flex;flex-direction: column;align-items: center;background-color: white;padding-right: 0.2em;padding-left: 0.2em;position: relative;}#sk-container-id-1 div.sk-item {position: relative;z-index: 1;}#sk-container-id-1 div.sk-parallel {display: flex;align-items: stretch;justify-content: center;background-color: white;position: relative;}#sk-container-id-1 div.sk-item::before, #sk-container-id-1 div.sk-parallel-item::before {content: \"\";position: absolute;border-left: 1px solid gray;box-sizing: border-box;top: 0;bottom: 0;left: 50%;z-index: -1;}#sk-container-id-1 div.sk-parallel-item {display: flex;flex-direction: column;z-index: 1;position: relative;background-color: white;}#sk-container-id-1 div.sk-parallel-item:first-child::after {align-self: flex-end;width: 50%;}#sk-container-id-1 div.sk-parallel-item:last-child::after {align-self: flex-start;width: 50%;}#sk-container-id-1 div.sk-parallel-item:only-child::after {width: 0;}#sk-container-id-1 div.sk-dashed-wrapped {border: 1px dashed gray;margin: 0 0.4em 0.5em 0.4em;box-sizing: border-box;padding-bottom: 0.4em;background-color: white;}#sk-container-id-1 div.sk-label label {font-family: monospace;font-weight: bold;display: inline-block;line-height: 1.2em;}#sk-container-id-1 div.sk-label-container {text-align: center;}#sk-container-id-1 div.sk-container {/* jupyter's `normalize.less` sets `[hidden] { display: none; }` but bootstrap.min.css set `[hidden] { display: none !important; }` so we also need the `!important` here to be able to override the default hidden behavior on the sphinx rendered scikit-learn.org. See: https://github.com/scikit-learn/scikit-learn/issues/21755 */display: inline-block !important;position: relative;}#sk-container-id-1 div.sk-text-repr-fallback {display: none;}</style><div id=\"sk-container-id-1\" class=\"sk-top-container\"><div class=\"sk-text-repr-fallback\"><pre>GridSearchCV(cv=5,\n",
       "             estimator=Pipeline(steps=[(&#x27;cvec&#x27;, CountVectorizer()),\n",
       "                                       (&#x27;mb&#x27;, MultinomialNB())]),\n",
       "             param_grid={&#x27;cvec__max_df&#x27;: [0.7], &#x27;cvec__max_features&#x27;: [2000],\n",
       "                         &#x27;cvec__min_df&#x27;: [3], &#x27;cvec__ngram_range&#x27;: [(1, 3)],\n",
       "                         &#x27;mb__alpha&#x27;: [0.95]})</pre><b>In a Jupyter environment, please rerun this cell to show the HTML representation or trust the notebook. <br />On GitHub, the HTML representation is unable to render, please try loading this page with nbviewer.org.</b></div><div class=\"sk-container\" hidden><div class=\"sk-item sk-dashed-wrapped\"><div class=\"sk-label-container\"><div class=\"sk-label sk-toggleable\"><input class=\"sk-toggleable__control sk-hidden--visually\" id=\"sk-estimator-id-1\" type=\"checkbox\" ><label for=\"sk-estimator-id-1\" class=\"sk-toggleable__label sk-toggleable__label-arrow\">GridSearchCV</label><div class=\"sk-toggleable__content\"><pre>GridSearchCV(cv=5,\n",
       "             estimator=Pipeline(steps=[(&#x27;cvec&#x27;, CountVectorizer()),\n",
       "                                       (&#x27;mb&#x27;, MultinomialNB())]),\n",
       "             param_grid={&#x27;cvec__max_df&#x27;: [0.7], &#x27;cvec__max_features&#x27;: [2000],\n",
       "                         &#x27;cvec__min_df&#x27;: [3], &#x27;cvec__ngram_range&#x27;: [(1, 3)],\n",
       "                         &#x27;mb__alpha&#x27;: [0.95]})</pre></div></div></div><div class=\"sk-parallel\"><div class=\"sk-parallel-item\"><div class=\"sk-item\"><div class=\"sk-label-container\"><div class=\"sk-label sk-toggleable\"><input class=\"sk-toggleable__control sk-hidden--visually\" id=\"sk-estimator-id-2\" type=\"checkbox\" ><label for=\"sk-estimator-id-2\" class=\"sk-toggleable__label sk-toggleable__label-arrow\">estimator: Pipeline</label><div class=\"sk-toggleable__content\"><pre>Pipeline(steps=[(&#x27;cvec&#x27;, CountVectorizer()), (&#x27;mb&#x27;, MultinomialNB())])</pre></div></div></div><div class=\"sk-serial\"><div class=\"sk-item\"><div class=\"sk-serial\"><div class=\"sk-item\"><div class=\"sk-estimator sk-toggleable\"><input class=\"sk-toggleable__control sk-hidden--visually\" id=\"sk-estimator-id-3\" type=\"checkbox\" ><label for=\"sk-estimator-id-3\" class=\"sk-toggleable__label sk-toggleable__label-arrow\">CountVectorizer</label><div class=\"sk-toggleable__content\"><pre>CountVectorizer()</pre></div></div></div><div class=\"sk-item\"><div class=\"sk-estimator sk-toggleable\"><input class=\"sk-toggleable__control sk-hidden--visually\" id=\"sk-estimator-id-4\" type=\"checkbox\" ><label for=\"sk-estimator-id-4\" class=\"sk-toggleable__label sk-toggleable__label-arrow\">MultinomialNB</label><div class=\"sk-toggleable__content\"><pre>MultinomialNB()</pre></div></div></div></div></div></div></div></div></div></div></div></div>"
      ],
      "text/plain": [
       "GridSearchCV(cv=5,\n",
       "             estimator=Pipeline(steps=[('cvec', CountVectorizer()),\n",
       "                                       ('mb', MultinomialNB())]),\n",
       "             param_grid={'cvec__max_df': [0.7], 'cvec__max_features': [2000],\n",
       "                         'cvec__min_df': [3], 'cvec__ngram_range': [(1, 3)],\n",
       "                         'mb__alpha': [0.95]})"
      ]
     },
     "execution_count": 11,
     "metadata": {},
     "output_type": "execute_result"
    }
   ],
   "source": [
    "#GridSearch the training data.\n",
    "\n",
    "gs.fit(X_train, y_train)"
   ]
  },
  {
   "cell_type": "code",
   "execution_count": 12,
   "id": "a0ddb153-6084-49a2-aaea-acd116d59071",
   "metadata": {},
   "outputs": [
    {
     "name": "stdout",
     "output_type": "stream",
     "text": [
      "The best accuracy score in all models tested in grid search is 87.0%\n"
     ]
    }
   ],
   "source": [
    "#What was the best score?\n",
    "print(f'The best accuracy score in all models tested in grid search is {round(gs.best_score_,2) * 100}%')"
   ]
  },
  {
   "cell_type": "code",
   "execution_count": 13,
   "id": "12c11ca3-3cf7-4117-883e-5f50523ecc94",
   "metadata": {},
   "outputs": [
    {
     "data": {
      "text/plain": [
       "{'cvec__max_df': 0.7,\n",
       " 'cvec__max_features': 2000,\n",
       " 'cvec__min_df': 3,\n",
       " 'cvec__ngram_range': (1, 3),\n",
       " 'mb__alpha': 0.95}"
      ]
     },
     "execution_count": 13,
     "metadata": {},
     "output_type": "execute_result"
    }
   ],
   "source": [
    "# Breakdown of the parameters chosen to make the best model.\n",
    "gs.best_params_"
   ]
  },
  {
   "cell_type": "markdown",
   "id": "74cbdb57-864b-44ee-a161-fedf9c1d9cac",
   "metadata": {},
   "source": [
    "## Predictions and Interpretation\n",
    "___\n",
    "\n",
    "Results - Model resulted in ~91% for both the training and testing accuracy score which is the best of any attempted model.  The prediction accurary is 91%"
   ]
  },
  {
   "cell_type": "markdown",
   "id": "a4c4683f-2370-434d-b07e-7077344f6b33",
   "metadata": {
    "editable": true,
    "slideshow": {
     "slide_type": ""
    },
    "tags": []
   },
   "source": [
    "#### Predictions"
   ]
  },
  {
   "cell_type": "code",
   "execution_count": 14,
   "id": "cd714f84-33dc-48c1-8ea4-51356f15ebcf",
   "metadata": {},
   "outputs": [
    {
     "name": "stdout",
     "output_type": "stream",
     "text": [
      "Training accuracy score is at 90.56%\n"
     ]
    }
   ],
   "source": [
    "#Training set results\n",
    "print(f'Training accuracy score is at {round(gs.score(X_train, y_train)* 100,2)}%')"
   ]
  },
  {
   "cell_type": "code",
   "execution_count": 15,
   "id": "4a65eb79-2b84-4c38-a76d-4d11fc551f96",
   "metadata": {},
   "outputs": [
    {
     "name": "stdout",
     "output_type": "stream",
     "text": [
      "Testing accuracy score is at 90.84%\n"
     ]
    }
   ],
   "source": [
    "# Testing set results - Null model is at 56%\n",
    "print(f'Testing accuracy score is at {round(gs.score(X_test, y_test)* 100,2)}%')"
   ]
  },
  {
   "cell_type": "code",
   "execution_count": 16,
   "id": "2dc131fd-1b60-4f71-97cd-27ad120beb4c",
   "metadata": {},
   "outputs": [
    {
     "data": {
      "text/plain": [
       "array([1, 1, 1, 1, 0, 1, 1, 1, 1, 1, 1, 1, 1, 1, 1, 0, 1, 1, 1, 1],\n",
       "      dtype=int64)"
      ]
     },
     "execution_count": 16,
     "metadata": {},
     "output_type": "execute_result"
    }
   ],
   "source": [
    "# The next two slides show how the model predicts (fountainpens = 1 and pens = 0) and the probability for each row value.\n",
    "# First 20 samples are shown.\n",
    "pred = gs.predict(X_test)\n",
    "pred[:20]"
   ]
  },
  {
   "cell_type": "code",
   "execution_count": 17,
   "id": "be1bbb76-772f-4089-b6d5-e866820588a5",
   "metadata": {},
   "outputs": [
    {
     "data": {
      "text/plain": [
       "array([[4.35621209e-01, 5.64378791e-01],\n",
       "       [2.74228770e-05, 9.99972577e-01],\n",
       "       [9.01120522e-04, 9.99098879e-01],\n",
       "       [4.82284210e-04, 9.99517716e-01],\n",
       "       [9.88730653e-01, 1.12693467e-02],\n",
       "       [1.09318310e-02, 9.89068169e-01],\n",
       "       [2.90899539e-01, 7.09100461e-01],\n",
       "       [5.11318533e-02, 9.48868147e-01],\n",
       "       [4.56932183e-02, 9.54306782e-01],\n",
       "       [1.09895673e-04, 9.99890104e-01],\n",
       "       [1.22206370e-28, 1.00000000e+00],\n",
       "       [5.87152048e-06, 9.99994128e-01],\n",
       "       [1.44347143e-08, 9.99999986e-01],\n",
       "       [3.88081217e-01, 6.11918783e-01],\n",
       "       [5.55468845e-12, 1.00000000e+00],\n",
       "       [9.89025297e-01, 1.09747029e-02],\n",
       "       [1.72469886e-05, 9.99982753e-01],\n",
       "       [6.65955927e-08, 9.99999933e-01],\n",
       "       [1.82103491e-01, 8.17896509e-01],\n",
       "       [1.45898273e-03, 9.98541017e-01]])"
      ]
     },
     "execution_count": 17,
     "metadata": {},
     "output_type": "execute_result"
    }
   ],
   "source": [
    "gs.predict_proba(X_test)[:20]"
   ]
  },
  {
   "cell_type": "code",
   "execution_count": 18,
   "id": "3b6608e3-87c5-4efe-b472-21bf82dc493b",
   "metadata": {},
   "outputs": [
    {
     "name": "stdout",
     "output_type": "stream",
     "text": [
      "This model has an accuracy score of 90.84%\n"
     ]
    }
   ],
   "source": [
    "# Accuracy Score - What precentage of total predictions were correct?\n",
    "print(f'This model has an accuracy score of {round(metrics.accuracy_score(y_test, pred) * 100,2)}%')"
   ]
  },
  {
   "cell_type": "markdown",
   "id": "6a7396a4-d10a-42c6-b0c3-002c05cc6cd8",
   "metadata": {
    "editable": true,
    "slideshow": {
     "slide_type": ""
    },
    "tags": []
   },
   "source": [
    "## Confusion Matrix Interpretation\n",
    "___\n",
    "In this scenerio, I would ideally prefer to never incorrectly classify a pen subreddit post as a fountainpens post.  Pens are a more general topic and talking about fountain pens would be acceptable.  It's safe to assume people browsing the fountainpens subreddit are only interested in fountain pens.<br><br>\n",
    "Essentially I want to mimimize false positives.  **The specificity score is ~88%**.  This model is more accurate, but doesn't do as well with specificity as Bernoulli Naive Bayes."
   ]
  },
  {
   "cell_type": "code",
   "execution_count": 19,
   "id": "5de30ab4-262e-402e-ba93-afd73e381e1d",
   "metadata": {},
   "outputs": [
    {
     "name": "stdout",
     "output_type": "stream",
     "text": [
      "273 37 27 362\n"
     ]
    }
   ],
   "source": [
    "#Create a confusion matrix array\n",
    "tn, fp, fn, tp = confusion_matrix(y_test, pred).ravel()\n",
    "\n",
    "print(tn, fp, fn, tp)"
   ]
  },
  {
   "cell_type": "code",
   "execution_count": 20,
   "id": "5b8be2c8-ff65-4437-a120-f91b744acf0f",
   "metadata": {},
   "outputs": [
    {
     "data": {
      "image/png": "[encoded data removed]",
      "text/plain": [
       "<Figure size 640x480 with 2 Axes>"
      ]
     },
     "metadata": {},
     "output_type": "display_data"
    }
   ],
   "source": [
    "#Create a confusion matrix\n",
    "#Create a confusion matrix\n",
    "disp = ConfusionMatrixDisplay(confusion_matrix=confusion_matrix(y_test, pred),\n",
    "                             display_labels=gs.classes_)\n",
    "\n",
    "disp.plot()\n",
    "plt.savefig('../plot_images/multinomial_nb_cvec_confusion_matrix.png', dpi = 192);"
   ]
  },
  {
   "cell_type": "code",
   "execution_count": 21,
   "id": "91bc1d34-7a00-41b4-9f4c-471a4ebbfaed",
   "metadata": {},
   "outputs": [
    {
     "data": {
      "text/plain": [
       "0.9305912596401028"
      ]
     },
     "execution_count": 21,
     "metadata": {},
     "output_type": "execute_result"
    }
   ],
   "source": [
    "# How sensitive is this model? ~93%\n",
    "metrics.recall_score(y_test, pred)"
   ]
  },
  {
   "cell_type": "code",
   "execution_count": 22,
   "id": "3de27799-3754-479c-b4e3-dc52661bdfac",
   "metadata": {},
   "outputs": [
    {
     "data": {
      "text/plain": [
       "0.8806451612903226"
      ]
     },
     "execution_count": 22,
     "metadata": {},
     "output_type": "execute_result"
    }
   ],
   "source": [
    "# What is the specificity of the model?  - I care about this metric more.  Score is ~88%\n",
    "tn / (tn + fp)"
   ]
  },
  {
   "cell_type": "code",
   "execution_count": 23,
   "id": "cf98686c-186a-4e08-9a8e-058ac1699933",
   "metadata": {},
   "outputs": [
    {
     "data": {
      "text/plain": [
       "0.9305912596401028"
      ]
     },
     "execution_count": 23,
     "metadata": {},
     "output_type": "execute_result"
    }
   ],
   "source": [
    "# Recall is the same as sensitivity ~93%\n",
    "metrics.recall_score(y_test, pred)"
   ]
  },
  {
   "cell_type": "code",
   "execution_count": 24,
   "id": "bbfa9ce9-cde2-4c74-b076-5b31eccacd62",
   "metadata": {},
   "outputs": [
    {
     "data": {
      "text/plain": [
       "0.9072681704260651"
      ]
     },
     "execution_count": 24,
     "metadata": {},
     "output_type": "execute_result"
    }
   ],
   "source": [
    "# Precision score.  How many were correctly predicted to go in the fountainpens reddit?\n",
    "metrics.precision_score(y_test, pred)"
   ]
  },
  {
   "cell_type": "code",
   "execution_count": 25,
   "id": "74c0a08c-b2f7-4bf1-b105-5c6cade4b18b",
   "metadata": {},
   "outputs": [
    {
     "data": {
      "text/plain": [
       "<Figure size 2000x800 with 0 Axes>"
      ]
     },
     "metadata": {},
     "output_type": "display_data"
    },
    {
     "data": {
      "image/png": "[encoded data removed]",
      "text/plain": [
       "<Figure size 640x480 with 1 Axes>"
      ]
     },
     "metadata": {},
     "output_type": "display_data"
    }
   ],
   "source": [
    "plt.figure(figsize = (20,8))\n",
    "plt.style.use(\"fivethirtyeight\")\n",
    "plt.tight_layout()\n",
    "\n",
    "RocCurveDisplay.from_estimator(gs, X_test, y_test)\n",
    "\n",
    "# The 50/50 line\n",
    "plt.plot([0,1], [0,1],\n",
    "         label = 'unable to predict',\n",
    "         linestyle = 'dotted',\n",
    "         color = 'midnightblue');\n",
    "\n",
    "# Legend\n",
    "plt.legend()\n",
    "plt.title('ROC Curve of Logistic Regression with TF-IDF Vectorizer')\n",
    "plt.xlabel('False Positive Rate')\n",
    "plt.ylabel('True Positive Rate: Positive: 1');"
   ]
  },
  {
   "cell_type": "code",
   "execution_count": 26,
   "id": "cd397e56-a754-4281-8602-37fb5897fba7",
   "metadata": {},
   "outputs": [
    {
     "data": {
      "text/plain": [
       "0.9187817258883249"
      ]
     },
     "execution_count": 26,
     "metadata": {},
     "output_type": "execute_result"
    }
   ],
   "source": [
    "#F1 Score - Unsure if this is meaningful because the classes weren't very unbalanced.\n",
    "f1_score(y_test, pred)"
   ]
  },
  {
   "cell_type": "markdown",
   "id": "5af3a6e2-dbe3-416b-bae5-2e115a996ff1",
   "metadata": {},
   "source": [
    "Predicted probability chart to compare against Bernoulli Naive Bayes model.  This model"
   ]
  },
  {
   "cell_type": "code",
   "execution_count": 27,
   "id": "401d650c-23d9-4992-90fe-2102c1c703a4",
   "metadata": {},
   "outputs": [
    {
     "data": {
      "text/html": [
       "<div>\n",
       "<style scoped>\n",
       "    .dataframe tbody tr th:only-of-type {\n",
       "        vertical-align: middle;\n",
       "    }\n",
       "\n",
       "    .dataframe tbody tr th {\n",
       "        vertical-align: top;\n",
       "    }\n",
       "\n",
       "    .dataframe thead th {\n",
       "        text-align: right;\n",
       "    }\n",
       "</style>\n",
       "<table border=\"1\" class=\"dataframe\">\n",
       "  <thead>\n",
       "    <tr style=\"text-align: right;\">\n",
       "      <th></th>\n",
       "      <th>pens</th>\n",
       "      <th>fountainpens</th>\n",
       "      <th>true_values</th>\n",
       "    </tr>\n",
       "  </thead>\n",
       "  <tbody>\n",
       "    <tr>\n",
       "      <th>0</th>\n",
       "      <td>0.435621</td>\n",
       "      <td>0.564379</td>\n",
       "      <td>1</td>\n",
       "    </tr>\n",
       "    <tr>\n",
       "      <th>1</th>\n",
       "      <td>0.000027</td>\n",
       "      <td>0.999973</td>\n",
       "      <td>1</td>\n",
       "    </tr>\n",
       "    <tr>\n",
       "      <th>2</th>\n",
       "      <td>0.000901</td>\n",
       "      <td>0.999099</td>\n",
       "      <td>1</td>\n",
       "    </tr>\n",
       "    <tr>\n",
       "      <th>3</th>\n",
       "      <td>0.000482</td>\n",
       "      <td>0.999518</td>\n",
       "      <td>1</td>\n",
       "    </tr>\n",
       "    <tr>\n",
       "      <th>4</th>\n",
       "      <td>0.988731</td>\n",
       "      <td>0.011269</td>\n",
       "      <td>0</td>\n",
       "    </tr>\n",
       "  </tbody>\n",
       "</table>\n",
       "</div>"
      ],
      "text/plain": [
       "       pens  fountainpens  true_values\n",
       "0  0.435621      0.564379            1\n",
       "1  0.000027      0.999973            1\n",
       "2  0.000901      0.999099            1\n",
       "3  0.000482      0.999518            1\n",
       "4  0.988731      0.011269            0"
      ]
     },
     "execution_count": 27,
     "metadata": {},
     "output_type": "execute_result"
    }
   ],
   "source": [
    "pred_df = pd.DataFrame(\n",
    "    gs.predict_proba(X_test),\n",
    "    columns=['pens', 'fountainpens'])\n",
    "\n",
    "pred_df['true_values'] = y_test.values\n",
    "\n",
    "pred_df.head()"
   ]
  },
  {
   "cell_type": "code",
   "execution_count": 28,
   "id": "a2ee5c04-b2f9-406a-bcec-443d981d5146",
   "metadata": {
    "editable": true,
    "slideshow": {
     "slide_type": ""
    },
    "tags": []
   },
   "outputs": [
    {
     "data": {
      "image/png": "[encoded data removed]",
      "text/plain": [
       "<Figure size 1200x500 with 1 Axes>"
      ]
     },
     "metadata": {},
     "output_type": "display_data"
    }
   ],
   "source": [
    "plt.figure(figsize=(12,5))\n",
    "plt.tight_layout()\n",
    "\n",
    "alive_subset = pred_df[pred_df['true_values'] == 0]\n",
    "plt.hist(alive_subset['fountainpens'], label='pens', bins=15, alpha=.5)\n",
    "\n",
    "dead_subset = pred_df[pred_df['true_values'] == 1]\n",
    "plt.hist(dead_subset['fountainpens'], label='fountainpens', bins=15, alpha=.5)\n",
    "\n",
    "plt.axvline(.5, color='black', linestyle='-', label='threshold')\n",
    "plt.xlabel('Predicted probability of outcome = fountainpens', size = 20)\n",
    "\n",
    "plt.legend();"
   ]
  },
  {
   "cell_type": "code",
   "execution_count": null,
   "id": "4fbdfa40-fa1b-4b6b-9547-50377e3a8cde",
   "metadata": {},
   "outputs": [],
   "source": []
  }
 ],
 "metadata": {
  "kernelspec": {
   "display_name": "Python 3 (ipykernel)",
   "language": "python",
   "name": "python3"
  },
  "language_info": {
   "codemirror_mode": {
    "name": "ipython",
    "version": 3
   },
   "file_extension": ".py",
   "mimetype": "text/x-python",
   "name": "python",
   "nbconvert_exporter": "python",
   "pygments_lexer": "ipython3",
   "version": "3.11.7"
  }
 },
 "nbformat": 4,
 "nbformat_minor": 5
}
