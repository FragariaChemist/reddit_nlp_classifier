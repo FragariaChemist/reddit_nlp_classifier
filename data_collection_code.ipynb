{
 "cells": [
  {
   "cell_type": "code",
   "execution_count": 18,
   "id": "7783d5c8-9613-44f2-9eae-c210b1fc67b3",
   "metadata": {},
   "outputs": [],
   "source": [
    "import pandas as pd\n",
    "import matplotlib.pyplot as plt\n",
    "from PIL import Image\n",
    "import numpy as np"
   ]
  },
  {
   "cell_type": "code",
   "execution_count": 22,
   "id": "d10e6eb9-77ad-4397-9971-fc429eeef9ad",
   "metadata": {},
   "outputs": [],
   "source": [
    "pd.read_excel('../data/data_collection_log.xlsx').to_csv('../data/data_collection_log.csv')"
   ]
  },
  {
   "cell_type": "code",
   "execution_count": null,
   "id": "b84edce7-eace-42cd-b669-ebd2af73fc16",
   "metadata": {
    "editable": true,
    "slideshow": {
     "slide_type": ""
    },
    "tags": []
   },
   "outputs": [],
   "source": []
  },
  {
   "cell_type": "markdown",
   "id": "58fe8abe-1178-4e37-b868-30bc862d71c9",
   "metadata": {
    "editable": true,
    "slideshow": {
     "slide_type": ""
    },
    "tags": []
   },
   "source": []
  }
 ],
 "metadata": {
  "kernelspec": {
   "display_name": "Python 3 (ipykernel)",
   "language": "python",
   "name": "python3"
  },
  "language_info": {
   "codemirror_mode": {
    "name": "ipython",
    "version": 3
   },
   "file_extension": ".py",
   "mimetype": "text/x-python",
   "name": "python",
   "nbconvert_exporter": "python",
   "pygments_lexer": "ipython3",
   "version": "3.11.7"
  }
 },
 "nbformat": 4,
 "nbformat_minor": 5
}
