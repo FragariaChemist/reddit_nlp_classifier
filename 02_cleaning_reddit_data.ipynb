{
 "cells": [
  {
   "cell_type": "markdown",
   "id": "c5f15596-e5d3-4c15-a7fe-803194ce7209",
   "metadata": {},
   "source": [
    "# Cleaning and EDA\n",
    "---"
   ]
  },
  {
   "cell_type": "markdown",
   "id": "070565b5-a0ec-4a10-b452-891c5a6ef2ce",
   "metadata": {},
   "source": [
    "## Contents\n",
    "---\n",
    "- [Library Imports](#Library-Imports)\n",
    "- [Cleaning](#Cleaning)"
   ]
  },
  {
   "cell_type": "markdown",
   "id": "4a8488b4-c55a-4ddf-8cad-d02809e514dc",
   "metadata": {},
   "source": [
    "### Library Imports\n",
    "---"
   ]
  },
  {
   "cell_type": "code",
   "execution_count": 2,
   "id": "7a41ee58-8f30-4292-97bf-df0dd5c5d5f4",
   "metadata": {},
   "outputs": [],
   "source": [
    "#Imports\n",
    "import pandas as pd"
   ]
  },
  {
   "cell_type": "markdown",
   "id": "406c5b69-2ba3-4bc0-9234-d834ec9c21cf",
   "metadata": {
    "editable": true,
    "slideshow": {
     "slide_type": ""
    },
    "tags": []
   },
   "source": [
    "### Cleaning\n",
    "---"
   ]
  },
  {
   "cell_type": "code",
   "execution_count": 28,
   "id": "925b3de0-4bdd-48d3-9214-e40abeda80b2",
   "metadata": {},
   "outputs": [],
   "source": [
    "# Pull in the corpus.csv and transform into a dataframe - drop the index included in the csv with index_col = [0]\n",
    "corpus = pd.read_csv('./data/corpus.csv', index_col = [0])"
   ]
  },
  {
   "cell_type": "code",
   "execution_count": 32,
   "id": "24c41371-0cbe-48fe-9cae-abbfd4c1f7f4",
   "metadata": {},
   "outputs": [
    {
     "name": "stdout",
     "output_type": "stream",
     "text": [
      "<class 'pandas.core.frame.DataFrame'>\n",
      "Index: 2800 entries, 0 to 2799\n",
      "Data columns (total 3 columns):\n",
      " #   Column     Non-Null Count  Dtype \n",
      "---  ------     --------------  ----- \n",
      " 0   title      2800 non-null   object\n",
      " 1   selftext   1907 non-null   object\n",
      " 2   subreddit  2800 non-null   object\n",
      "dtypes: object(3)\n",
      "memory usage: 87.5+ KB\n"
     ]
    }
   ],
   "source": [
    "corpus.info()"
   ]
  },
  {
   "cell_type": "markdown",
   "id": "cf8d06a0-60c1-496c-ba96-4542829ce0d6",
   "metadata": {},
   "source": [
    "**The following steps will combine the title and selftext columns into one column, separated with a white space.  The column will be called 'text'.**"
   ]
  },
  {
   "cell_type": "code",
   "execution_count": 30,
   "id": "fa9c4dd2-7a18-4b9e-8b62-378a9b773b23",
   "metadata": {},
   "outputs": [
    {
     "data": {
      "text/plain": [
       "title          0\n",
       "selftext     893\n",
       "subreddit      0\n",
       "dtype: int64"
      ]
     },
     "execution_count": 30,
     "metadata": {},
     "output_type": "execute_result"
    }
   ],
   "source": [
    "# While all posts have text in their titles, about 32% do not have text in the body of the post.  These are likely images.  Before I can concantenate the columns together, I will replace NaNs with a white space.\n",
    "corpus.isnull().sum()"
   ]
  },
  {
   "cell_type": "code",
   "execution_count": 37,
   "id": "9249da4e-b009-4d07-96b5-a27965781028",
   "metadata": {},
   "outputs": [],
   "source": [
    "corpus.fillna(' ', inplace = True)"
   ]
  },
  {
   "cell_type": "code",
   "execution_count": 39,
   "id": "9e9f26ee-bbe7-4fce-9340-550abe6adb4e",
   "metadata": {},
   "outputs": [
    {
     "data": {
      "text/plain": [
       "title        0\n",
       "selftext     0\n",
       "subreddit    0\n",
       "dtype: int64"
      ]
     },
     "execution_count": 39,
     "metadata": {},
     "output_type": "execute_result"
    }
   ],
   "source": [
    "# No NaNs! \\o/\n",
    "corpus.isnull().sum()"
   ]
  },
  {
   "cell_type": "code",
   "execution_count": 40,
   "id": "2cc4d8f9-b2ed-414c-8aaf-f267e39f341f",
   "metadata": {},
   "outputs": [],
   "source": [
    "#Concatenate the title and selftext columns together into single column of text.\n",
    "corpus['text'] = corpus['title'] + ' ' + corpus['selftext']"
   ]
  },
  {
   "cell_type": "code",
   "execution_count": 42,
   "id": "d51de3e1-8d71-44a1-b4f8-e7a2f6e4553b",
   "metadata": {},
   "outputs": [
    {
     "data": {
      "text/html": [
       "<div>\n",
       "<style scoped>\n",
       "    .dataframe tbody tr th:only-of-type {\n",
       "        vertical-align: middle;\n",
       "    }\n",
       "\n",
       "    .dataframe tbody tr th {\n",
       "        vertical-align: top;\n",
       "    }\n",
       "\n",
       "    .dataframe thead th {\n",
       "        text-align: right;\n",
       "    }\n",
       "</style>\n",
       "<table border=\"1\" class=\"dataframe\">\n",
       "  <thead>\n",
       "    <tr style=\"text-align: right;\">\n",
       "      <th></th>\n",
       "      <th>title</th>\n",
       "      <th>selftext</th>\n",
       "      <th>subreddit</th>\n",
       "      <th>text</th>\n",
       "    </tr>\n",
       "  </thead>\n",
       "  <tbody>\n",
       "    <tr>\n",
       "      <th>0</th>\n",
       "      <td>The Traveling Journal of r/fountainpens (Appro...</td>\n",
       "      <td>Greetings, fountain pen family!\\n\\nSome of you...</td>\n",
       "      <td>fp</td>\n",
       "      <td>The Traveling Journal of r/fountainpens (Appro...</td>\n",
       "    </tr>\n",
       "    <tr>\n",
       "      <th>1</th>\n",
       "      <td>Sometimes, we just need this simple reminder 🤗</td>\n",
       "      <td></td>\n",
       "      <td>fp</td>\n",
       "      <td>Sometimes, we just need this simple reminder 🤗</td>\n",
       "    </tr>\n",
       "    <tr>\n",
       "      <th>2</th>\n",
       "      <td>I must confess I was wrong about Kaweco</td>\n",
       "      <td>I've been in the hobby on and off for over a d...</td>\n",
       "      <td>fp</td>\n",
       "      <td>I must confess I was wrong about Kaweco I've b...</td>\n",
       "    </tr>\n",
       "    <tr>\n",
       "      <th>3</th>\n",
       "      <td>Why are cheap fountain pens so much better?</td>\n",
       "      <td>This is the cheapest pen I have. I had zero pr...</td>\n",
       "      <td>fp</td>\n",
       "      <td>Why are cheap fountain pens so much better? Th...</td>\n",
       "    </tr>\n",
       "    <tr>\n",
       "      <th>4</th>\n",
       "      <td>Literally classic design</td>\n",
       "      <td>Beautiful stripes and engraving on the nib is ...</td>\n",
       "      <td>fp</td>\n",
       "      <td>Literally classic design Beautiful stripes and...</td>\n",
       "    </tr>\n",
       "  </tbody>\n",
       "</table>\n",
       "</div>"
      ],
      "text/plain": [
       "                                               title  \\\n",
       "0  The Traveling Journal of r/fountainpens (Appro...   \n",
       "1     Sometimes, we just need this simple reminder 🤗   \n",
       "2            I must confess I was wrong about Kaweco   \n",
       "3        Why are cheap fountain pens so much better?   \n",
       "4                           Literally classic design   \n",
       "\n",
       "                                            selftext subreddit  \\\n",
       "0  Greetings, fountain pen family!\\n\\nSome of you...        fp   \n",
       "1                                                           fp   \n",
       "2  I've been in the hobby on and off for over a d...        fp   \n",
       "3  This is the cheapest pen I have. I had zero pr...        fp   \n",
       "4  Beautiful stripes and engraving on the nib is ...        fp   \n",
       "\n",
       "                                                text  \n",
       "0  The Traveling Journal of r/fountainpens (Appro...  \n",
       "1   Sometimes, we just need this simple reminder 🤗    \n",
       "2  I must confess I was wrong about Kaweco I've b...  \n",
       "3  Why are cheap fountain pens so much better? Th...  \n",
       "4  Literally classic design Beautiful stripes and...  "
      ]
     },
     "execution_count": 42,
     "metadata": {},
     "output_type": "execute_result"
    }
   ],
   "source": [
    "corpus.head()"
   ]
  },
  {
   "cell_type": "code",
   "execution_count": 45,
   "id": "df972032-b582-4b33-ac80-5c23f578ccda",
   "metadata": {},
   "outputs": [],
   "source": [
    "# Drop the title and selftext columns as they are now combined into one column.\n",
    "columns_to_drop = ['title', 'selftext']\n",
    "\n",
    "corpus.drop(columns = columns_to_drop, inplace = True)"
   ]
  },
  {
   "cell_type": "code",
   "execution_count": 56,
   "id": "4dcabb4f-a570-4720-9b78-12d47423ba11",
   "metadata": {},
   "outputs": [
    {
     "data": {
      "text/html": [
       "<div>\n",
       "<style scoped>\n",
       "    .dataframe tbody tr th:only-of-type {\n",
       "        vertical-align: middle;\n",
       "    }\n",
       "\n",
       "    .dataframe tbody tr th {\n",
       "        vertical-align: top;\n",
       "    }\n",
       "\n",
       "    .dataframe thead th {\n",
       "        text-align: right;\n",
       "    }\n",
       "</style>\n",
       "<table border=\"1\" class=\"dataframe\">\n",
       "  <thead>\n",
       "    <tr style=\"text-align: right;\">\n",
       "      <th></th>\n",
       "      <th>subreddit</th>\n",
       "      <th>text</th>\n",
       "    </tr>\n",
       "  </thead>\n",
       "  <tbody>\n",
       "    <tr>\n",
       "      <th>0</th>\n",
       "      <td>1</td>\n",
       "      <td>The Traveling Journal of r/fountainpens (Appro...</td>\n",
       "    </tr>\n",
       "    <tr>\n",
       "      <th>1</th>\n",
       "      <td>1</td>\n",
       "      <td>Sometimes, we just need this simple reminder 🤗</td>\n",
       "    </tr>\n",
       "    <tr>\n",
       "      <th>2</th>\n",
       "      <td>1</td>\n",
       "      <td>I must confess I was wrong about Kaweco I've b...</td>\n",
       "    </tr>\n",
       "    <tr>\n",
       "      <th>3</th>\n",
       "      <td>1</td>\n",
       "      <td>Why are cheap fountain pens so much better? Th...</td>\n",
       "    </tr>\n",
       "    <tr>\n",
       "      <th>4</th>\n",
       "      <td>1</td>\n",
       "      <td>Literally classic design Beautiful stripes and...</td>\n",
       "    </tr>\n",
       "  </tbody>\n",
       "</table>\n",
       "</div>"
      ],
      "text/plain": [
       "   subreddit                                               text\n",
       "0          1  The Traveling Journal of r/fountainpens (Appro...\n",
       "1          1   Sometimes, we just need this simple reminder 🤗  \n",
       "2          1  I must confess I was wrong about Kaweco I've b...\n",
       "3          1  Why are cheap fountain pens so much better? Th...\n",
       "4          1  Literally classic design Beautiful stripes and..."
      ]
     },
     "execution_count": 56,
     "metadata": {},
     "output_type": "execute_result"
    }
   ],
   "source": [
    "corpus.head()"
   ]
  },
  {
   "cell_type": "markdown",
   "id": "65bde70b-ff5b-4f3b-be96-a952b769d008",
   "metadata": {},
   "source": [
    "**For modeling, I will change the 'fp' subreddit classifier to 1 and the 'pens' subreddit classifier to 0.**"
   ]
  },
  {
   "cell_type": "code",
   "execution_count": 52,
   "id": "e6ed9eb8-7626-45d0-bf5a-67c7efb253fe",
   "metadata": {},
   "outputs": [],
   "source": [
    "corpus.replace({'fp':1, 'pens':0}, inplace = True)"
   ]
  },
  {
   "cell_type": "code",
   "execution_count": 53,
   "id": "3a4fddf5-4180-4c1c-a6d9-5f52ca995eba",
   "metadata": {},
   "outputs": [
    {
     "data": {
      "text/html": [
       "<div>\n",
       "<style scoped>\n",
       "    .dataframe tbody tr th:only-of-type {\n",
       "        vertical-align: middle;\n",
       "    }\n",
       "\n",
       "    .dataframe tbody tr th {\n",
       "        vertical-align: top;\n",
       "    }\n",
       "\n",
       "    .dataframe thead th {\n",
       "        text-align: right;\n",
       "    }\n",
       "</style>\n",
       "<table border=\"1\" class=\"dataframe\">\n",
       "  <thead>\n",
       "    <tr style=\"text-align: right;\">\n",
       "      <th></th>\n",
       "      <th>subreddit</th>\n",
       "      <th>text</th>\n",
       "    </tr>\n",
       "  </thead>\n",
       "  <tbody>\n",
       "    <tr>\n",
       "      <th>0</th>\n",
       "      <td>1</td>\n",
       "      <td>The Traveling Journal of r/fountainpens (Appro...</td>\n",
       "    </tr>\n",
       "    <tr>\n",
       "      <th>1</th>\n",
       "      <td>1</td>\n",
       "      <td>Sometimes, we just need this simple reminder 🤗</td>\n",
       "    </tr>\n",
       "    <tr>\n",
       "      <th>2</th>\n",
       "      <td>1</td>\n",
       "      <td>I must confess I was wrong about Kaweco I've b...</td>\n",
       "    </tr>\n",
       "    <tr>\n",
       "      <th>3</th>\n",
       "      <td>1</td>\n",
       "      <td>Why are cheap fountain pens so much better? Th...</td>\n",
       "    </tr>\n",
       "    <tr>\n",
       "      <th>4</th>\n",
       "      <td>1</td>\n",
       "      <td>Literally classic design Beautiful stripes and...</td>\n",
       "    </tr>\n",
       "    <tr>\n",
       "      <th>...</th>\n",
       "      <td>...</td>\n",
       "      <td>...</td>\n",
       "    </tr>\n",
       "    <tr>\n",
       "      <th>2795</th>\n",
       "      <td>0</td>\n",
       "      <td>Which pen are you picking?</td>\n",
       "    </tr>\n",
       "    <tr>\n",
       "      <th>2796</th>\n",
       "      <td>0</td>\n",
       "      <td>I want this pen! Any idea the name?!</td>\n",
       "    </tr>\n",
       "    <tr>\n",
       "      <th>2797</th>\n",
       "      <td>0</td>\n",
       "      <td>Looking for ID on the left pen. This is the on...</td>\n",
       "    </tr>\n",
       "    <tr>\n",
       "      <th>2798</th>\n",
       "      <td>0</td>\n",
       "      <td>Current rotation, no complaints</td>\n",
       "    </tr>\n",
       "    <tr>\n",
       "      <th>2799</th>\n",
       "      <td>0</td>\n",
       "      <td>Pilot G2 07 to 3-1 or 4-1? Anyone know of a pe...</td>\n",
       "    </tr>\n",
       "  </tbody>\n",
       "</table>\n",
       "<p>2800 rows × 2 columns</p>\n",
       "</div>"
      ],
      "text/plain": [
       "      subreddit                                               text\n",
       "0             1  The Traveling Journal of r/fountainpens (Appro...\n",
       "1             1   Sometimes, we just need this simple reminder 🤗  \n",
       "2             1  I must confess I was wrong about Kaweco I've b...\n",
       "3             1  Why are cheap fountain pens so much better? Th...\n",
       "4             1  Literally classic design Beautiful stripes and...\n",
       "...         ...                                                ...\n",
       "2795          0                       Which pen are you picking?  \n",
       "2796          0             I want this pen! Any idea the name?!  \n",
       "2797          0  Looking for ID on the left pen. This is the on...\n",
       "2798          0                 Current rotation, no complaints   \n",
       "2799          0  Pilot G2 07 to 3-1 or 4-1? Anyone know of a pe...\n",
       "\n",
       "[2800 rows x 2 columns]"
      ]
     },
     "execution_count": 53,
     "metadata": {},
     "output_type": "execute_result"
    }
   ],
   "source": [
    "corpus"
   ]
  },
  {
   "cell_type": "markdown",
   "id": "1e6b8804-aa3d-44b6-bb60-6c639c4fff93",
   "metadata": {},
   "source": [
    "**Read the cleaned datafram back into a csv file**"
   ]
  },
  {
   "cell_type": "code",
   "execution_count": 57,
   "id": "b6e56bc4-7693-41cf-9a7f-e771fac3ec62",
   "metadata": {},
   "outputs": [],
   "source": [
    "corpus.to_csv('./data/cleaned_corpus.csv', index = False)"
   ]
  },
  {
   "cell_type": "markdown",
   "id": "8b1f5e56-2bf0-4935-984d-66fba69207a3",
   "metadata": {},
   "source": [
    "**Note that 'fountainpens' = 1 and 'pens' = 0**"
   ]
  },
  {
   "cell_type": "code",
   "execution_count": 58,
   "id": "51cb1050-6045-4dbe-a8e6-eb959839121f",
   "metadata": {},
   "outputs": [
    {
     "name": "stdout",
     "output_type": "stream",
     "text": [
      "<class 'pandas.core.frame.DataFrame'>\n",
      "Index: 2800 entries, 0 to 2799\n",
      "Data columns (total 2 columns):\n",
      " #   Column     Non-Null Count  Dtype \n",
      "---  ------     --------------  ----- \n",
      " 0   subreddit  2800 non-null   int64 \n",
      " 1   text       2800 non-null   object\n",
      "dtypes: int64(1), object(1)\n",
      "memory usage: 65.6+ KB\n"
     ]
    }
   ],
   "source": [
    "corpus.info()"
   ]
  },
  {
   "cell_type": "code",
   "execution_count": 60,
   "id": "de0a0fbe-faa2-4430-bc36-352204ab719b",
   "metadata": {},
   "outputs": [
    {
     "data": {
      "text/plain": [
       "subreddit\n",
       "1    55.607143\n",
       "0    44.392857\n",
       "Name: proportion, dtype: float64"
      ]
     },
     "execution_count": 60,
     "metadata": {},
     "output_type": "execute_result"
    }
   ],
   "source": [
    "# The fountainpens subreddit make up 55.6% of the data and the pens subreddit make up 44%\n",
    "corpus['subreddit'].value_counts(normalize = True) * 100"
   ]
  }
 ],
 "metadata": {
  "kernelspec": {
   "display_name": "Python 3 (ipykernel)",
   "language": "python",
   "name": "python3"
  },
  "language_info": {
   "codemirror_mode": {
    "name": "ipython",
    "version": 3
   },
   "file_extension": ".py",
   "mimetype": "text/x-python",
   "name": "python",
   "nbconvert_exporter": "python",
   "pygments_lexer": "ipython3",
   "version": "3.11.7"
  }
 },
 "nbformat": 4,
 "nbformat_minor": 5
}
